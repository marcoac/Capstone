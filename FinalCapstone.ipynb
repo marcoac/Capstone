{
 "cells": [
  {
   "cell_type": "markdown",
   "metadata": {},
   "source": [
    "# Final Capstone\n",
    "\n",
    "## Overview\n",
    "For my final capstone in the Thinkful Data Science Course, I will be implementing mutliple models in attempt estimate the probability of sequences in computer log activity.  I will determine the likelihood that a user follows a particular path and map these to the MITRE ATT&CK Framework available <a href=\"https://attack.mitre.org/wiki/Main_Page\">here</a>. \n",
    "\n",
    "Certain activities by a user or program on a computer network can generally be mapped to certain categories of behavior, known as a Tactic in the ATT&CK ontology.  Once mapped, the behaviors form graphical models of behavior that can be represented by a Markov Chain.  The following are the MITRE ATT&CK Tactics:\n",
    "* Persistence\n",
    "* Privilege Escalation\n",
    "* Defense Evasion\n",
    "* Credential Access\n",
    "* Discovery\n",
    "* Lateral Movement\n",
    "* Execution\n",
    "* Collection\n",
    "* Exfiltration\n",
    "* Command and Control\n",
    "\n",
    "When a malicious user or attacker attacks a network, there are generally traces of this behavior left behind in the form of logs, whether these are endpoint logs, e.g., Windows or Linux Operating system event, access and security logs, network based logs, e.g., Intrusion Detection Systems (IDS), netflow logs, firewall logs, router logs, or application logs, e.g., HypterText Transfer Protocol (HTTP) web server logs, database logs, etc. With the multiple different logs, identification of a malicious user is difficult, and anomaly detection plays a critical role in identifying malicious behavior.\n",
    "\n",
    "While anomaly detection identifies interesting events in these logs, it is typically not sufficient individually to determine whether or not a particular event is actually malicious. In order to just that, multiple individual anomalous events that can be correlated together provide a strong indication that actual malicious activity is present.  \n",
    "\n",
    "In this Capstone, I will identify anomalous activity in log data, relate those back to the Tactics, and use a Markov chain to predict the probability that a user performed those activities.  Probabilities that are very low would indicate that that sequence of events has happened and would be a strong indication that an attack has occured.  This utility of this model is two-fold: \n",
    "* Correlating anomalous events together automatically reduces the human requirement to manually pull these events together, freeing security analysts to perform other tasks\n",
    "* Providing the probability of a particular sequence being followed can aide in attribution of specific attacks"
   ]
  },
  {
   "cell_type": "code",
   "execution_count": 30,
   "metadata": {
    "collapsed": true
   },
   "outputs": [],
   "source": [
    "import pandas as pd\n",
    "from datetime import datetime\n",
    "import numpy as np"
   ]
  },
  {
   "cell_type": "code",
   "execution_count": 3,
   "metadata": {},
   "outputs": [],
   "source": [
    "df = pd.read_csv('C:\\\\Users\\\\Kim\\\\Downloads\\\\r1\\\\logon.csv')"
   ]
  },
  {
   "cell_type": "code",
   "execution_count": 4,
   "metadata": {},
   "outputs": [
    {
     "data": {
      "text/html": [
       "<div>\n",
       "<style>\n",
       "    .dataframe thead tr:only-child th {\n",
       "        text-align: right;\n",
       "    }\n",
       "\n",
       "    .dataframe thead th {\n",
       "        text-align: left;\n",
       "    }\n",
       "\n",
       "    .dataframe tbody tr th {\n",
       "        vertical-align: top;\n",
       "    }\n",
       "</style>\n",
       "<table border=\"1\" class=\"dataframe\">\n",
       "  <thead>\n",
       "    <tr style=\"text-align: right;\">\n",
       "      <th></th>\n",
       "      <th>id</th>\n",
       "      <th>date</th>\n",
       "      <th>user</th>\n",
       "      <th>pc</th>\n",
       "      <th>activity</th>\n",
       "    </tr>\n",
       "  </thead>\n",
       "  <tbody>\n",
       "    <tr>\n",
       "      <th>0</th>\n",
       "      <td>{Y6O4-A7KC67IN-0899AOZK}</td>\n",
       "      <td>01/04/2010 00:10:37</td>\n",
       "      <td>DTAA/KEE0997</td>\n",
       "      <td>PC-1914</td>\n",
       "      <td>Logon</td>\n",
       "    </tr>\n",
       "    <tr>\n",
       "      <th>1</th>\n",
       "      <td>{O5Y6-O7CJ02JC-6704RWBS}</td>\n",
       "      <td>01/04/2010 00:52:16</td>\n",
       "      <td>DTAA/KEE0997</td>\n",
       "      <td>PC-1914</td>\n",
       "      <td>Logoff</td>\n",
       "    </tr>\n",
       "    <tr>\n",
       "      <th>2</th>\n",
       "      <td>{D2D1-C6EB14QJ-2100RSZO}</td>\n",
       "      <td>01/04/2010 01:17:20</td>\n",
       "      <td>DTAA/KEE0997</td>\n",
       "      <td>PC-3363</td>\n",
       "      <td>Logon</td>\n",
       "    </tr>\n",
       "    <tr>\n",
       "      <th>3</th>\n",
       "      <td>{H9W1-X0MC70BT-6065RPAT}</td>\n",
       "      <td>01/04/2010 01:28:34</td>\n",
       "      <td>DTAA/KEE0997</td>\n",
       "      <td>PC-3363</td>\n",
       "      <td>Logoff</td>\n",
       "    </tr>\n",
       "    <tr>\n",
       "      <th>4</th>\n",
       "      <td>{H3H4-S5AZ00AZ-9560IYHC}</td>\n",
       "      <td>01/04/2010 01:57:30</td>\n",
       "      <td>DTAA/BJM0992</td>\n",
       "      <td>PC-3058</td>\n",
       "      <td>Logon</td>\n",
       "    </tr>\n",
       "  </tbody>\n",
       "</table>\n",
       "</div>"
      ],
      "text/plain": [
       "                         id                 date          user       pc  \\\n",
       "0  {Y6O4-A7KC67IN-0899AOZK}  01/04/2010 00:10:37  DTAA/KEE0997  PC-1914   \n",
       "1  {O5Y6-O7CJ02JC-6704RWBS}  01/04/2010 00:52:16  DTAA/KEE0997  PC-1914   \n",
       "2  {D2D1-C6EB14QJ-2100RSZO}  01/04/2010 01:17:20  DTAA/KEE0997  PC-3363   \n",
       "3  {H9W1-X0MC70BT-6065RPAT}  01/04/2010 01:28:34  DTAA/KEE0997  PC-3363   \n",
       "4  {H3H4-S5AZ00AZ-9560IYHC}  01/04/2010 01:57:30  DTAA/BJM0992  PC-3058   \n",
       "\n",
       "  activity  \n",
       "0    Logon  \n",
       "1   Logoff  \n",
       "2    Logon  \n",
       "3   Logoff  \n",
       "4    Logon  "
      ]
     },
     "execution_count": 4,
     "metadata": {},
     "output_type": "execute_result"
    }
   ],
   "source": [
    "df.head()"
   ]
  },
  {
   "cell_type": "code",
   "execution_count": 7,
   "metadata": {},
   "outputs": [
    {
     "data": {
      "text/plain": [
       "Logon     470877\n",
       "Logoff    378702\n",
       "Name: activity, dtype: int64"
      ]
     },
     "execution_count": 7,
     "metadata": {},
     "output_type": "execute_result"
    }
   ],
   "source": [
    "df.activity.value_counts()"
   ]
  },
  {
   "cell_type": "code",
   "execution_count": 14,
   "metadata": {},
   "outputs": [],
   "source": [
    "df['date'] = df['date'].apply(lambda x: datetime.strptime(x, \"%m/%d/%Y %H:%M:%S\").strftime(\"%m-%d-%Y\"))"
   ]
  },
  {
   "cell_type": "code",
   "execution_count": 15,
   "metadata": {
    "collapsed": true
   },
   "outputs": [],
   "source": [
    "# We are not going to concern ourselves with Logoff activity\n",
    "df = df[df['activity']=='Logon']"
   ]
  },
  {
   "cell_type": "code",
   "execution_count": 20,
   "metadata": {},
   "outputs": [],
   "source": [
    "count_df = df.groupby(['date', 'user']).size().reset_index(name=\"Count\")"
   ]
  },
  {
   "cell_type": "code",
   "execution_count": 21,
   "metadata": {
    "collapsed": true
   },
   "outputs": [],
   "source": [
    "test = count_df[count_df['user']=='DTAA/TPC0102']"
   ]
  },
  {
   "cell_type": "code",
   "execution_count": 22,
   "metadata": {},
   "outputs": [
    {
     "data": {
      "text/html": [
       "<div>\n",
       "<style>\n",
       "    .dataframe thead tr:only-child th {\n",
       "        text-align: right;\n",
       "    }\n",
       "\n",
       "    .dataframe thead th {\n",
       "        text-align: left;\n",
       "    }\n",
       "\n",
       "    .dataframe tbody tr th {\n",
       "        vertical-align: top;\n",
       "    }\n",
       "</style>\n",
       "<table border=\"1\" class=\"dataframe\">\n",
       "  <thead>\n",
       "    <tr style=\"text-align: right;\">\n",
       "      <th></th>\n",
       "      <th>date</th>\n",
       "      <th>user</th>\n",
       "      <th>Count</th>\n",
       "    </tr>\n",
       "  </thead>\n",
       "  <tbody>\n",
       "    <tr>\n",
       "      <th>872</th>\n",
       "      <td>01-03-2011</td>\n",
       "      <td>DTAA/TPC0102</td>\n",
       "      <td>2</td>\n",
       "    </tr>\n",
       "    <tr>\n",
       "      <th>1868</th>\n",
       "      <td>01-04-2010</td>\n",
       "      <td>DTAA/TPC0102</td>\n",
       "      <td>3</td>\n",
       "    </tr>\n",
       "    <tr>\n",
       "      <th>2828</th>\n",
       "      <td>01-04-2011</td>\n",
       "      <td>DTAA/TPC0102</td>\n",
       "      <td>2</td>\n",
       "    </tr>\n",
       "    <tr>\n",
       "      <th>3824</th>\n",
       "      <td>01-05-2010</td>\n",
       "      <td>DTAA/TPC0102</td>\n",
       "      <td>3</td>\n",
       "    </tr>\n",
       "    <tr>\n",
       "      <th>4784</th>\n",
       "      <td>01-05-2011</td>\n",
       "      <td>DTAA/TPC0102</td>\n",
       "      <td>2</td>\n",
       "    </tr>\n",
       "  </tbody>\n",
       "</table>\n",
       "</div>"
      ],
      "text/plain": [
       "            date          user  Count\n",
       "872   01-03-2011  DTAA/TPC0102      2\n",
       "1868  01-04-2010  DTAA/TPC0102      3\n",
       "2828  01-04-2011  DTAA/TPC0102      2\n",
       "3824  01-05-2010  DTAA/TPC0102      3\n",
       "4784  01-05-2011  DTAA/TPC0102      2"
      ]
     },
     "execution_count": 22,
     "metadata": {},
     "output_type": "execute_result"
    }
   ],
   "source": [
    "test.head()"
   ]
  },
  {
   "cell_type": "code",
   "execution_count": 28,
   "metadata": {},
   "outputs": [],
   "source": [
    "import pymc3 as pm\n",
    "import theano.tensor as tt\n",
    "\n",
    "n_count_data = len(test)\n",
    "\n",
    "with pm.Model() as model:\n",
    "    alpha = 1.0/test.mean()  # Recall count_data is the\n",
    "                                   # variable that holds our txt counts\n",
    "    lambda_1 = pm.Exponential(\"lambda_1\", alpha, shape=1)\n",
    "    lambda_2 = pm.Exponential(\"lambda_2\", alpha, shape=1)\n",
    "    \n",
    "    tau = pm.DiscreteUniform(\"tau\", lower=0, upper=n_count_data - 1)"
   ]
  },
  {
   "cell_type": "code",
   "execution_count": 31,
   "metadata": {},
   "outputs": [],
   "source": [
    "with model:\n",
    "    idx = np.arange(n_count_data) # Index\n",
    "    lambda_ = pm.math.switch(tau > idx, lambda_1, lambda_2)"
   ]
  },
  {
   "cell_type": "code",
   "execution_count": 32,
   "metadata": {},
   "outputs": [
    {
     "ename": "NameError",
     "evalue": "name 'count_data' is not defined",
     "output_type": "error",
     "traceback": [
      "\u001b[1;31m---------------------------------------------------------------------------\u001b[0m",
      "\u001b[1;31mNameError\u001b[0m                                 Traceback (most recent call last)",
      "\u001b[1;32m<ipython-input-32-6095821f5533>\u001b[0m in \u001b[0;36m<module>\u001b[1;34m()\u001b[0m\n\u001b[0;32m      1\u001b[0m \u001b[1;33m\u001b[0m\u001b[0m\n\u001b[0;32m      2\u001b[0m \u001b[1;32mwith\u001b[0m \u001b[0mmodel\u001b[0m\u001b[1;33m:\u001b[0m\u001b[1;33m\u001b[0m\u001b[0m\n\u001b[1;32m----> 3\u001b[1;33m     \u001b[0mobservation\u001b[0m \u001b[1;33m=\u001b[0m \u001b[0mpm\u001b[0m\u001b[1;33m.\u001b[0m\u001b[0mPoisson\u001b[0m\u001b[1;33m(\u001b[0m\u001b[1;34m\"obs\"\u001b[0m\u001b[1;33m,\u001b[0m \u001b[0mlambda_\u001b[0m\u001b[1;33m,\u001b[0m \u001b[0mobserved\u001b[0m\u001b[1;33m=\u001b[0m\u001b[0mcount_data\u001b[0m\u001b[1;33m)\u001b[0m\u001b[1;33m\u001b[0m\u001b[0m\n\u001b[0m",
      "\u001b[1;31mNameError\u001b[0m: name 'count_data' is not defined"
     ]
    }
   ],
   "source": [
    "\n",
    "with model:\n",
    "    observation = pm.Poisson(\"obs\", lambda_, observed=count_data)"
   ]
  },
  {
   "cell_type": "code",
   "execution_count": null,
   "metadata": {
    "collapsed": true
   },
   "outputs": [],
   "source": []
  }
 ],
 "metadata": {
  "kernelspec": {
   "display_name": "Python 3",
   "language": "python",
   "name": "python3"
  },
  "language_info": {
   "codemirror_mode": {
    "name": "ipython",
    "version": 3
   },
   "file_extension": ".py",
   "mimetype": "text/x-python",
   "name": "python",
   "nbconvert_exporter": "python",
   "pygments_lexer": "ipython3",
   "version": "3.6.1"
  }
 },
 "nbformat": 4,
 "nbformat_minor": 2
}
