{
 "cells": [
  {
   "cell_type": "code",
   "execution_count": 145,
   "metadata": {
    "collapsed": true
   },
   "outputs": [],
   "source": [
    "import pandas as pd\n",
    "import numpy as np\n",
    "import seaborn as sns\n",
    "import matplotlib.pyplot as plt\n",
    "%matplotlib inline"
   ]
  },
  {
   "cell_type": "code",
   "execution_count": 146,
   "metadata": {},
   "outputs": [],
   "source": [
    "http_df = pd.read_csv(\"C:\\\\Users\\\\kim\\\\Downloads\\\\r2\\\\http.csv\")"
   ]
  },
  {
   "cell_type": "code",
   "execution_count": 147,
   "metadata": {
    "collapsed": true
   },
   "outputs": [],
   "source": [
    "logon_df = pd.read_csv(\"C:\\\\Users\\\\kim\\\\Downloads\\\\r2\\\\logon.csv\")"
   ]
  },
  {
   "cell_type": "code",
   "execution_count": 148,
   "metadata": {},
   "outputs": [
    {
     "data": {
      "text/html": [
       "<div>\n",
       "<style>\n",
       "    .dataframe thead tr:only-child th {\n",
       "        text-align: right;\n",
       "    }\n",
       "\n",
       "    .dataframe thead th {\n",
       "        text-align: left;\n",
       "    }\n",
       "\n",
       "    .dataframe tbody tr th {\n",
       "        vertical-align: top;\n",
       "    }\n",
       "</style>\n",
       "<table border=\"1\" class=\"dataframe\">\n",
       "  <thead>\n",
       "    <tr style=\"text-align: right;\">\n",
       "      <th></th>\n",
       "      <th>id</th>\n",
       "      <th>date</th>\n",
       "      <th>user</th>\n",
       "      <th>pc</th>\n",
       "      <th>url</th>\n",
       "    </tr>\n",
       "  </thead>\n",
       "  <tbody>\n",
       "    <tr>\n",
       "      <th>0</th>\n",
       "      <td>{A5Z0-O7YI19HY-2327MTUD}</td>\n",
       "      <td>01/04/2010 00:11:14</td>\n",
       "      <td>XAW0291</td>\n",
       "      <td>PC-1897</td>\n",
       "      <td>http://espn.go.com</td>\n",
       "    </tr>\n",
       "    <tr>\n",
       "      <th>1</th>\n",
       "      <td>{I2D2-H2HE07ZC-7547MMBZ}</td>\n",
       "      <td>01/04/2010 00:17:09</td>\n",
       "      <td>XAW0291</td>\n",
       "      <td>PC-1897</td>\n",
       "      <td>http://aol.com</td>\n",
       "    </tr>\n",
       "    <tr>\n",
       "      <th>2</th>\n",
       "      <td>{A5I3-U0KO25JD-1385DSOT}</td>\n",
       "      <td>01/04/2010 06:15:16</td>\n",
       "      <td>GOF0098</td>\n",
       "      <td>PC-5628</td>\n",
       "      <td>http://t.co</td>\n",
       "    </tr>\n",
       "    <tr>\n",
       "      <th>3</th>\n",
       "      <td>{E4U0-Z3IA14TT-0368VHTQ}</td>\n",
       "      <td>01/04/2010 06:15:48</td>\n",
       "      <td>GOF0098</td>\n",
       "      <td>PC-5628</td>\n",
       "      <td>http://expedia.com</td>\n",
       "    </tr>\n",
       "    <tr>\n",
       "      <th>4</th>\n",
       "      <td>{Y6W8-R7RS54AX-7698XOES}</td>\n",
       "      <td>01/04/2010 06:17:07</td>\n",
       "      <td>BTC0414</td>\n",
       "      <td>PC-1953</td>\n",
       "      <td>http://wordpress.com</td>\n",
       "    </tr>\n",
       "  </tbody>\n",
       "</table>\n",
       "</div>"
      ],
      "text/plain": [
       "                         id                 date     user       pc  \\\n",
       "0  {A5Z0-O7YI19HY-2327MTUD}  01/04/2010 00:11:14  XAW0291  PC-1897   \n",
       "1  {I2D2-H2HE07ZC-7547MMBZ}  01/04/2010 00:17:09  XAW0291  PC-1897   \n",
       "2  {A5I3-U0KO25JD-1385DSOT}  01/04/2010 06:15:16  GOF0098  PC-5628   \n",
       "3  {E4U0-Z3IA14TT-0368VHTQ}  01/04/2010 06:15:48  GOF0098  PC-5628   \n",
       "4  {Y6W8-R7RS54AX-7698XOES}  01/04/2010 06:17:07  BTC0414  PC-1953   \n",
       "\n",
       "                    url  \n",
       "0    http://espn.go.com  \n",
       "1        http://aol.com  \n",
       "2           http://t.co  \n",
       "3    http://expedia.com  \n",
       "4  http://wordpress.com  "
      ]
     },
     "execution_count": 148,
     "metadata": {},
     "output_type": "execute_result"
    }
   ],
   "source": [
    "http_df.head()"
   ]
  },
  {
   "cell_type": "code",
   "execution_count": 149,
   "metadata": {},
   "outputs": [],
   "source": [
    "from datetime import datetime\n",
    "http_df['new_date'] = http_df['date'].apply(lambda x: datetime.strptime(x, '%m/%d/%Y %H:%M:%S').strftime(\"%m/%d/%Y\"))"
   ]
  },
  {
   "cell_type": "code",
   "execution_count": 150,
   "metadata": {},
   "outputs": [
    {
     "data": {
      "text/html": [
       "<div>\n",
       "<style>\n",
       "    .dataframe thead tr:only-child th {\n",
       "        text-align: right;\n",
       "    }\n",
       "\n",
       "    .dataframe thead th {\n",
       "        text-align: left;\n",
       "    }\n",
       "\n",
       "    .dataframe tbody tr th {\n",
       "        vertical-align: top;\n",
       "    }\n",
       "</style>\n",
       "<table border=\"1\" class=\"dataframe\">\n",
       "  <thead>\n",
       "    <tr style=\"text-align: right;\">\n",
       "      <th></th>\n",
       "      <th>id</th>\n",
       "      <th>date</th>\n",
       "      <th>user</th>\n",
       "      <th>pc</th>\n",
       "      <th>url</th>\n",
       "      <th>new_date</th>\n",
       "    </tr>\n",
       "  </thead>\n",
       "  <tbody>\n",
       "    <tr>\n",
       "      <th>0</th>\n",
       "      <td>{A5Z0-O7YI19HY-2327MTUD}</td>\n",
       "      <td>01/04/2010 00:11:14</td>\n",
       "      <td>XAW0291</td>\n",
       "      <td>PC-1897</td>\n",
       "      <td>http://espn.go.com</td>\n",
       "      <td>01/04/2010</td>\n",
       "    </tr>\n",
       "    <tr>\n",
       "      <th>1</th>\n",
       "      <td>{I2D2-H2HE07ZC-7547MMBZ}</td>\n",
       "      <td>01/04/2010 00:17:09</td>\n",
       "      <td>XAW0291</td>\n",
       "      <td>PC-1897</td>\n",
       "      <td>http://aol.com</td>\n",
       "      <td>01/04/2010</td>\n",
       "    </tr>\n",
       "    <tr>\n",
       "      <th>2</th>\n",
       "      <td>{A5I3-U0KO25JD-1385DSOT}</td>\n",
       "      <td>01/04/2010 06:15:16</td>\n",
       "      <td>GOF0098</td>\n",
       "      <td>PC-5628</td>\n",
       "      <td>http://t.co</td>\n",
       "      <td>01/04/2010</td>\n",
       "    </tr>\n",
       "    <tr>\n",
       "      <th>3</th>\n",
       "      <td>{E4U0-Z3IA14TT-0368VHTQ}</td>\n",
       "      <td>01/04/2010 06:15:48</td>\n",
       "      <td>GOF0098</td>\n",
       "      <td>PC-5628</td>\n",
       "      <td>http://expedia.com</td>\n",
       "      <td>01/04/2010</td>\n",
       "    </tr>\n",
       "    <tr>\n",
       "      <th>4</th>\n",
       "      <td>{Y6W8-R7RS54AX-7698XOES}</td>\n",
       "      <td>01/04/2010 06:17:07</td>\n",
       "      <td>BTC0414</td>\n",
       "      <td>PC-1953</td>\n",
       "      <td>http://wordpress.com</td>\n",
       "      <td>01/04/2010</td>\n",
       "    </tr>\n",
       "  </tbody>\n",
       "</table>\n",
       "</div>"
      ],
      "text/plain": [
       "                         id                 date     user       pc  \\\n",
       "0  {A5Z0-O7YI19HY-2327MTUD}  01/04/2010 00:11:14  XAW0291  PC-1897   \n",
       "1  {I2D2-H2HE07ZC-7547MMBZ}  01/04/2010 00:17:09  XAW0291  PC-1897   \n",
       "2  {A5I3-U0KO25JD-1385DSOT}  01/04/2010 06:15:16  GOF0098  PC-5628   \n",
       "3  {E4U0-Z3IA14TT-0368VHTQ}  01/04/2010 06:15:48  GOF0098  PC-5628   \n",
       "4  {Y6W8-R7RS54AX-7698XOES}  01/04/2010 06:17:07  BTC0414  PC-1953   \n",
       "\n",
       "                    url    new_date  \n",
       "0    http://espn.go.com  01/04/2010  \n",
       "1        http://aol.com  01/04/2010  \n",
       "2           http://t.co  01/04/2010  \n",
       "3    http://expedia.com  01/04/2010  \n",
       "4  http://wordpress.com  01/04/2010  "
      ]
     },
     "execution_count": 150,
     "metadata": {},
     "output_type": "execute_result"
    }
   ],
   "source": [
    "http_df.head()"
   ]
  },
  {
   "cell_type": "code",
   "execution_count": 151,
   "metadata": {},
   "outputs": [
    {
     "data": {
      "text/html": [
       "<div>\n",
       "<style>\n",
       "    .dataframe thead tr:only-child th {\n",
       "        text-align: right;\n",
       "    }\n",
       "\n",
       "    .dataframe thead th {\n",
       "        text-align: left;\n",
       "    }\n",
       "\n",
       "    .dataframe tbody tr th {\n",
       "        vertical-align: top;\n",
       "    }\n",
       "</style>\n",
       "<table border=\"1\" class=\"dataframe\">\n",
       "  <thead>\n",
       "    <tr style=\"text-align: right;\">\n",
       "      <th></th>\n",
       "      <th>id</th>\n",
       "      <th>date</th>\n",
       "      <th>user</th>\n",
       "      <th>pc</th>\n",
       "      <th>activity</th>\n",
       "    </tr>\n",
       "  </thead>\n",
       "  <tbody>\n",
       "    <tr>\n",
       "      <th>0</th>\n",
       "      <td>{Q9W7-Z6TD90VH-9722UOQW}</td>\n",
       "      <td>1/4/2010 8:47:00</td>\n",
       "      <td>DBT0001</td>\n",
       "      <td>PC-8395</td>\n",
       "      <td>Logon</td>\n",
       "    </tr>\n",
       "    <tr>\n",
       "      <th>1</th>\n",
       "      <td>{M0G5-U3UB28KR-1843ZWNN}</td>\n",
       "      <td>1/4/2010 11:49:45</td>\n",
       "      <td>DBT0001</td>\n",
       "      <td>PC-8660</td>\n",
       "      <td>Logon</td>\n",
       "    </tr>\n",
       "    <tr>\n",
       "      <th>2</th>\n",
       "      <td>{M7T7-A6VZ99JN-1013WISU}</td>\n",
       "      <td>1/4/2010 12:44:39</td>\n",
       "      <td>DBT0001</td>\n",
       "      <td>PC-8660</td>\n",
       "      <td>Logoff</td>\n",
       "    </tr>\n",
       "    <tr>\n",
       "      <th>3</th>\n",
       "      <td>{J3H6-C7LN75YJ-4291TUHK}</td>\n",
       "      <td>1/4/2010 13:22:24</td>\n",
       "      <td>DBT0001</td>\n",
       "      <td>PC-8395</td>\n",
       "      <td>Logon</td>\n",
       "    </tr>\n",
       "    <tr>\n",
       "      <th>4</th>\n",
       "      <td>{W9Q2-T1IC68GM-6231DJFO}</td>\n",
       "      <td>1/4/2010 15:45:00</td>\n",
       "      <td>DBT0001</td>\n",
       "      <td>PC-8395</td>\n",
       "      <td>Logoff</td>\n",
       "    </tr>\n",
       "  </tbody>\n",
       "</table>\n",
       "</div>"
      ],
      "text/plain": [
       "                         id               date     user       pc activity\n",
       "0  {Q9W7-Z6TD90VH-9722UOQW}   1/4/2010 8:47:00  DBT0001  PC-8395    Logon\n",
       "1  {M0G5-U3UB28KR-1843ZWNN}  1/4/2010 11:49:45  DBT0001  PC-8660    Logon\n",
       "2  {M7T7-A6VZ99JN-1013WISU}  1/4/2010 12:44:39  DBT0001  PC-8660   Logoff\n",
       "3  {J3H6-C7LN75YJ-4291TUHK}  1/4/2010 13:22:24  DBT0001  PC-8395    Logon\n",
       "4  {W9Q2-T1IC68GM-6231DJFO}  1/4/2010 15:45:00  DBT0001  PC-8395   Logoff"
      ]
     },
     "execution_count": 151,
     "metadata": {},
     "output_type": "execute_result"
    }
   ],
   "source": [
    "logon_df.head()"
   ]
  },
  {
   "cell_type": "code",
   "execution_count": 152,
   "metadata": {},
   "outputs": [],
   "source": [
    "from datetime import datetime\n",
    "logon_df['new_date'] = logon_df['date'].apply(lambda x: datetime.strptime(x, '%m/%d/%Y %H:%M:%S').strftime(\"%m/%d/%Y\"))"
   ]
  },
  {
   "cell_type": "code",
   "execution_count": 27,
   "metadata": {},
   "outputs": [],
   "source": [
    "del logon_df['id']\n",
    "del logon_df['date']"
   ]
  },
  {
   "cell_type": "code",
   "execution_count": 172,
   "metadata": {},
   "outputs": [],
   "source": [
    "logon_df = logon_df[logon_df['activity']=='Logon']"
   ]
  },
  {
   "cell_type": "code",
   "execution_count": 173,
   "metadata": {},
   "outputs": [],
   "source": [
    "logon_df = logon_df[logon_df['user']=='DBT0001']"
   ]
  },
  {
   "cell_type": "code",
   "execution_count": 175,
   "metadata": {},
   "outputs": [],
   "source": [
    "group_logons = logon_df.groupby(['new_date'])['pc'].nunique().reset_index()"
   ]
  },
  {
   "cell_type": "code",
   "execution_count": 176,
   "metadata": {},
   "outputs": [
    {
     "data": {
      "text/html": [
       "<div>\n",
       "<style>\n",
       "    .dataframe thead tr:only-child th {\n",
       "        text-align: right;\n",
       "    }\n",
       "\n",
       "    .dataframe thead th {\n",
       "        text-align: left;\n",
       "    }\n",
       "\n",
       "    .dataframe tbody tr th {\n",
       "        vertical-align: top;\n",
       "    }\n",
       "</style>\n",
       "<table border=\"1\" class=\"dataframe\">\n",
       "  <thead>\n",
       "    <tr style=\"text-align: right;\">\n",
       "      <th></th>\n",
       "      <th>id</th>\n",
       "      <th>date</th>\n",
       "      <th>user</th>\n",
       "      <th>pc</th>\n",
       "      <th>activity</th>\n",
       "      <th>new_date</th>\n",
       "    </tr>\n",
       "  </thead>\n",
       "  <tbody>\n",
       "    <tr>\n",
       "      <th>618119</th>\n",
       "      <td>{X2V3-N5RA10MO-1909TDZZ}</td>\n",
       "      <td>1/3/2011 8:53:00</td>\n",
       "      <td>DBT0001</td>\n",
       "      <td>PC-8395</td>\n",
       "      <td>Logon</td>\n",
       "      <td>01/03/2011</td>\n",
       "    </tr>\n",
       "    <tr>\n",
       "      <th>618120</th>\n",
       "      <td>{A7N1-K9SM12QI-2794SGLM}</td>\n",
       "      <td>1/3/2011 12:05:20</td>\n",
       "      <td>DBT0001</td>\n",
       "      <td>PC-2998</td>\n",
       "      <td>Logon</td>\n",
       "      <td>01/03/2011</td>\n",
       "    </tr>\n",
       "    <tr>\n",
       "      <th>618122</th>\n",
       "      <td>{X9L6-Y6UW33YX-6762FJBA}</td>\n",
       "      <td>1/3/2011 14:30:00</td>\n",
       "      <td>DBT0001</td>\n",
       "      <td>PC-8395</td>\n",
       "      <td>Logon</td>\n",
       "      <td>01/03/2011</td>\n",
       "    </tr>\n",
       "  </tbody>\n",
       "</table>\n",
       "</div>"
      ],
      "text/plain": [
       "                              id               date     user       pc  \\\n",
       "618119  {X2V3-N5RA10MO-1909TDZZ}   1/3/2011 8:53:00  DBT0001  PC-8395   \n",
       "618120  {A7N1-K9SM12QI-2794SGLM}  1/3/2011 12:05:20  DBT0001  PC-2998   \n",
       "618122  {X9L6-Y6UW33YX-6762FJBA}  1/3/2011 14:30:00  DBT0001  PC-8395   \n",
       "\n",
       "       activity    new_date  \n",
       "618119    Logon  01/03/2011  \n",
       "618120    Logon  01/03/2011  \n",
       "618122    Logon  01/03/2011  "
      ]
     },
     "execution_count": 176,
     "metadata": {},
     "output_type": "execute_result"
    }
   ],
   "source": [
    "logon_df[logon_df['new_date']=='01/03/2011']"
   ]
  },
  {
   "cell_type": "code",
   "execution_count": 177,
   "metadata": {
    "scrolled": true
   },
   "outputs": [
    {
     "data": {
      "text/html": [
       "<div>\n",
       "<style>\n",
       "    .dataframe thead tr:only-child th {\n",
       "        text-align: right;\n",
       "    }\n",
       "\n",
       "    .dataframe thead th {\n",
       "        text-align: left;\n",
       "    }\n",
       "\n",
       "    .dataframe tbody tr th {\n",
       "        vertical-align: top;\n",
       "    }\n",
       "</style>\n",
       "<table border=\"1\" class=\"dataframe\">\n",
       "  <thead>\n",
       "    <tr style=\"text-align: right;\">\n",
       "      <th></th>\n",
       "      <th>new_date</th>\n",
       "      <th>pc</th>\n",
       "    </tr>\n",
       "  </thead>\n",
       "  <tbody>\n",
       "    <tr>\n",
       "      <th>0</th>\n",
       "      <td>01/03/2011</td>\n",
       "      <td>2</td>\n",
       "    </tr>\n",
       "    <tr>\n",
       "      <th>1</th>\n",
       "      <td>01/04/2010</td>\n",
       "      <td>2</td>\n",
       "    </tr>\n",
       "    <tr>\n",
       "      <th>2</th>\n",
       "      <td>01/04/2011</td>\n",
       "      <td>1</td>\n",
       "    </tr>\n",
       "    <tr>\n",
       "      <th>3</th>\n",
       "      <td>01/05/2010</td>\n",
       "      <td>1</td>\n",
       "    </tr>\n",
       "    <tr>\n",
       "      <th>4</th>\n",
       "      <td>01/05/2011</td>\n",
       "      <td>1</td>\n",
       "    </tr>\n",
       "    <tr>\n",
       "      <th>5</th>\n",
       "      <td>01/06/2010</td>\n",
       "      <td>1</td>\n",
       "    </tr>\n",
       "    <tr>\n",
       "      <th>6</th>\n",
       "      <td>01/06/2011</td>\n",
       "      <td>1</td>\n",
       "    </tr>\n",
       "    <tr>\n",
       "      <th>7</th>\n",
       "      <td>01/07/2010</td>\n",
       "      <td>1</td>\n",
       "    </tr>\n",
       "    <tr>\n",
       "      <th>8</th>\n",
       "      <td>01/07/2011</td>\n",
       "      <td>1</td>\n",
       "    </tr>\n",
       "    <tr>\n",
       "      <th>9</th>\n",
       "      <td>01/08/2010</td>\n",
       "      <td>1</td>\n",
       "    </tr>\n",
       "    <tr>\n",
       "      <th>10</th>\n",
       "      <td>01/10/2011</td>\n",
       "      <td>1</td>\n",
       "    </tr>\n",
       "    <tr>\n",
       "      <th>11</th>\n",
       "      <td>01/11/2010</td>\n",
       "      <td>2</td>\n",
       "    </tr>\n",
       "    <tr>\n",
       "      <th>12</th>\n",
       "      <td>01/11/2011</td>\n",
       "      <td>1</td>\n",
       "    </tr>\n",
       "    <tr>\n",
       "      <th>13</th>\n",
       "      <td>01/12/2010</td>\n",
       "      <td>1</td>\n",
       "    </tr>\n",
       "    <tr>\n",
       "      <th>14</th>\n",
       "      <td>01/12/2011</td>\n",
       "      <td>1</td>\n",
       "    </tr>\n",
       "    <tr>\n",
       "      <th>15</th>\n",
       "      <td>01/13/2010</td>\n",
       "      <td>1</td>\n",
       "    </tr>\n",
       "    <tr>\n",
       "      <th>16</th>\n",
       "      <td>01/13/2011</td>\n",
       "      <td>1</td>\n",
       "    </tr>\n",
       "    <tr>\n",
       "      <th>17</th>\n",
       "      <td>01/14/2010</td>\n",
       "      <td>2</td>\n",
       "    </tr>\n",
       "    <tr>\n",
       "      <th>18</th>\n",
       "      <td>01/14/2011</td>\n",
       "      <td>1</td>\n",
       "    </tr>\n",
       "    <tr>\n",
       "      <th>19</th>\n",
       "      <td>01/15/2010</td>\n",
       "      <td>1</td>\n",
       "    </tr>\n",
       "    <tr>\n",
       "      <th>20</th>\n",
       "      <td>01/17/2011</td>\n",
       "      <td>1</td>\n",
       "    </tr>\n",
       "    <tr>\n",
       "      <th>21</th>\n",
       "      <td>01/18/2010</td>\n",
       "      <td>1</td>\n",
       "    </tr>\n",
       "    <tr>\n",
       "      <th>22</th>\n",
       "      <td>01/18/2011</td>\n",
       "      <td>1</td>\n",
       "    </tr>\n",
       "    <tr>\n",
       "      <th>23</th>\n",
       "      <td>01/19/2010</td>\n",
       "      <td>1</td>\n",
       "    </tr>\n",
       "    <tr>\n",
       "      <th>24</th>\n",
       "      <td>01/19/2011</td>\n",
       "      <td>1</td>\n",
       "    </tr>\n",
       "    <tr>\n",
       "      <th>25</th>\n",
       "      <td>01/20/2010</td>\n",
       "      <td>1</td>\n",
       "    </tr>\n",
       "    <tr>\n",
       "      <th>26</th>\n",
       "      <td>01/20/2011</td>\n",
       "      <td>1</td>\n",
       "    </tr>\n",
       "    <tr>\n",
       "      <th>27</th>\n",
       "      <td>01/21/2010</td>\n",
       "      <td>1</td>\n",
       "    </tr>\n",
       "    <tr>\n",
       "      <th>28</th>\n",
       "      <td>01/21/2011</td>\n",
       "      <td>1</td>\n",
       "    </tr>\n",
       "    <tr>\n",
       "      <th>29</th>\n",
       "      <td>01/22/2010</td>\n",
       "      <td>2</td>\n",
       "    </tr>\n",
       "    <tr>\n",
       "      <th>...</th>\n",
       "      <td>...</td>\n",
       "      <td>...</td>\n",
       "    </tr>\n",
       "    <tr>\n",
       "      <th>315</th>\n",
       "      <td>11/15/2010</td>\n",
       "      <td>1</td>\n",
       "    </tr>\n",
       "    <tr>\n",
       "      <th>316</th>\n",
       "      <td>11/16/2010</td>\n",
       "      <td>2</td>\n",
       "    </tr>\n",
       "    <tr>\n",
       "      <th>317</th>\n",
       "      <td>11/17/2010</td>\n",
       "      <td>2</td>\n",
       "    </tr>\n",
       "    <tr>\n",
       "      <th>318</th>\n",
       "      <td>11/18/2010</td>\n",
       "      <td>2</td>\n",
       "    </tr>\n",
       "    <tr>\n",
       "      <th>319</th>\n",
       "      <td>11/19/2010</td>\n",
       "      <td>1</td>\n",
       "    </tr>\n",
       "    <tr>\n",
       "      <th>320</th>\n",
       "      <td>11/22/2010</td>\n",
       "      <td>1</td>\n",
       "    </tr>\n",
       "    <tr>\n",
       "      <th>321</th>\n",
       "      <td>11/23/2010</td>\n",
       "      <td>2</td>\n",
       "    </tr>\n",
       "    <tr>\n",
       "      <th>322</th>\n",
       "      <td>11/24/2010</td>\n",
       "      <td>2</td>\n",
       "    </tr>\n",
       "    <tr>\n",
       "      <th>323</th>\n",
       "      <td>11/29/2010</td>\n",
       "      <td>1</td>\n",
       "    </tr>\n",
       "    <tr>\n",
       "      <th>324</th>\n",
       "      <td>11/30/2010</td>\n",
       "      <td>1</td>\n",
       "    </tr>\n",
       "    <tr>\n",
       "      <th>325</th>\n",
       "      <td>12/01/2010</td>\n",
       "      <td>1</td>\n",
       "    </tr>\n",
       "    <tr>\n",
       "      <th>326</th>\n",
       "      <td>12/02/2010</td>\n",
       "      <td>1</td>\n",
       "    </tr>\n",
       "    <tr>\n",
       "      <th>327</th>\n",
       "      <td>12/03/2010</td>\n",
       "      <td>2</td>\n",
       "    </tr>\n",
       "    <tr>\n",
       "      <th>328</th>\n",
       "      <td>12/06/2010</td>\n",
       "      <td>2</td>\n",
       "    </tr>\n",
       "    <tr>\n",
       "      <th>329</th>\n",
       "      <td>12/07/2010</td>\n",
       "      <td>1</td>\n",
       "    </tr>\n",
       "    <tr>\n",
       "      <th>330</th>\n",
       "      <td>12/08/2010</td>\n",
       "      <td>2</td>\n",
       "    </tr>\n",
       "    <tr>\n",
       "      <th>331</th>\n",
       "      <td>12/09/2010</td>\n",
       "      <td>2</td>\n",
       "    </tr>\n",
       "    <tr>\n",
       "      <th>332</th>\n",
       "      <td>12/10/2010</td>\n",
       "      <td>1</td>\n",
       "    </tr>\n",
       "    <tr>\n",
       "      <th>333</th>\n",
       "      <td>12/13/2010</td>\n",
       "      <td>2</td>\n",
       "    </tr>\n",
       "    <tr>\n",
       "      <th>334</th>\n",
       "      <td>12/14/2010</td>\n",
       "      <td>2</td>\n",
       "    </tr>\n",
       "    <tr>\n",
       "      <th>335</th>\n",
       "      <td>12/15/2010</td>\n",
       "      <td>1</td>\n",
       "    </tr>\n",
       "    <tr>\n",
       "      <th>336</th>\n",
       "      <td>12/16/2010</td>\n",
       "      <td>1</td>\n",
       "    </tr>\n",
       "    <tr>\n",
       "      <th>337</th>\n",
       "      <td>12/17/2010</td>\n",
       "      <td>1</td>\n",
       "    </tr>\n",
       "    <tr>\n",
       "      <th>338</th>\n",
       "      <td>12/20/2010</td>\n",
       "      <td>1</td>\n",
       "    </tr>\n",
       "    <tr>\n",
       "      <th>339</th>\n",
       "      <td>12/21/2010</td>\n",
       "      <td>1</td>\n",
       "    </tr>\n",
       "    <tr>\n",
       "      <th>340</th>\n",
       "      <td>12/22/2010</td>\n",
       "      <td>1</td>\n",
       "    </tr>\n",
       "    <tr>\n",
       "      <th>341</th>\n",
       "      <td>12/27/2010</td>\n",
       "      <td>1</td>\n",
       "    </tr>\n",
       "    <tr>\n",
       "      <th>342</th>\n",
       "      <td>12/28/2010</td>\n",
       "      <td>2</td>\n",
       "    </tr>\n",
       "    <tr>\n",
       "      <th>343</th>\n",
       "      <td>12/29/2010</td>\n",
       "      <td>1</td>\n",
       "    </tr>\n",
       "    <tr>\n",
       "      <th>344</th>\n",
       "      <td>12/30/2010</td>\n",
       "      <td>1</td>\n",
       "    </tr>\n",
       "  </tbody>\n",
       "</table>\n",
       "<p>345 rows × 2 columns</p>\n",
       "</div>"
      ],
      "text/plain": [
       "       new_date  pc\n",
       "0    01/03/2011   2\n",
       "1    01/04/2010   2\n",
       "2    01/04/2011   1\n",
       "3    01/05/2010   1\n",
       "4    01/05/2011   1\n",
       "5    01/06/2010   1\n",
       "6    01/06/2011   1\n",
       "7    01/07/2010   1\n",
       "8    01/07/2011   1\n",
       "9    01/08/2010   1\n",
       "10   01/10/2011   1\n",
       "11   01/11/2010   2\n",
       "12   01/11/2011   1\n",
       "13   01/12/2010   1\n",
       "14   01/12/2011   1\n",
       "15   01/13/2010   1\n",
       "16   01/13/2011   1\n",
       "17   01/14/2010   2\n",
       "18   01/14/2011   1\n",
       "19   01/15/2010   1\n",
       "20   01/17/2011   1\n",
       "21   01/18/2010   1\n",
       "22   01/18/2011   1\n",
       "23   01/19/2010   1\n",
       "24   01/19/2011   1\n",
       "25   01/20/2010   1\n",
       "26   01/20/2011   1\n",
       "27   01/21/2010   1\n",
       "28   01/21/2011   1\n",
       "29   01/22/2010   2\n",
       "..          ...  ..\n",
       "315  11/15/2010   1\n",
       "316  11/16/2010   2\n",
       "317  11/17/2010   2\n",
       "318  11/18/2010   2\n",
       "319  11/19/2010   1\n",
       "320  11/22/2010   1\n",
       "321  11/23/2010   2\n",
       "322  11/24/2010   2\n",
       "323  11/29/2010   1\n",
       "324  11/30/2010   1\n",
       "325  12/01/2010   1\n",
       "326  12/02/2010   1\n",
       "327  12/03/2010   2\n",
       "328  12/06/2010   2\n",
       "329  12/07/2010   1\n",
       "330  12/08/2010   2\n",
       "331  12/09/2010   2\n",
       "332  12/10/2010   1\n",
       "333  12/13/2010   2\n",
       "334  12/14/2010   2\n",
       "335  12/15/2010   1\n",
       "336  12/16/2010   1\n",
       "337  12/17/2010   1\n",
       "338  12/20/2010   1\n",
       "339  12/21/2010   1\n",
       "340  12/22/2010   1\n",
       "341  12/27/2010   1\n",
       "342  12/28/2010   2\n",
       "343  12/29/2010   1\n",
       "344  12/30/2010   1\n",
       "\n",
       "[345 rows x 2 columns]"
      ]
     },
     "execution_count": 177,
     "metadata": {},
     "output_type": "execute_result"
    }
   ],
   "source": [
    "group_logons.sort_values(by='new_date')"
   ]
  },
  {
   "cell_type": "code",
   "execution_count": 179,
   "metadata": {},
   "outputs": [
    {
     "data": {
      "text/plain": [
       "1    253\n",
       "2     92\n",
       "Name: pc, dtype: int64"
      ]
     },
     "execution_count": 179,
     "metadata": {},
     "output_type": "execute_result"
    }
   ],
   "source": [
    "group_logons['pc'].value_counts()"
   ]
  },
  {
   "cell_type": "code",
   "execution_count": 180,
   "metadata": {
    "collapsed": true
   },
   "outputs": [],
   "source": [
    "group_logons.columns=['new_date','count']"
   ]
  },
  {
   "cell_type": "code",
   "execution_count": 181,
   "metadata": {},
   "outputs": [],
   "source": [
    "group_logons.iloc[100, group_logons.columns.get_loc('count')] = 10"
   ]
  },
  {
   "cell_type": "code",
   "execution_count": 137,
   "metadata": {},
   "outputs": [
    {
     "data": {
      "text/plain": [
       "<matplotlib.axes._subplots.AxesSubplot at 0x1c302b10080>"
      ]
     },
     "execution_count": 137,
     "metadata": {},
     "output_type": "execute_result"
    },
    {
     "data": {
      "image/png": "[encoded data removed]",
      "text/plain": [
       "<matplotlib.figure.Figure at 0x1c2b032b940>"
      ]
     },
     "metadata": {},
     "output_type": "display_data"
    }
   ],
   "source": [
    "group_logons['count'].plot(kind='line') "
   ]
  },
  {
   "cell_type": "code",
   "execution_count": 196,
   "metadata": {},
   "outputs": [],
   "source": [
    "sz = len(group_logons)\n",
    "\n",
    "xhat = np.zeros(sz)      # a posteri estimate of x\n",
    "P = np.zeros(sz)         # a posteri error estimate\n",
    "xhatminus = np.zeros(sz) # a priori estimate of x\n",
    "Pminus = np.zeros(sz)    # a prior error estimate\n",
    "K = np.zeros(sz)         # Kalman gain\n",
    "\n",
    "Q = 100      # process variance\n",
    "R = 200    # estimate of measurement variance\n",
    "xhat[0] = 0.0\n",
    "P[0] = 1.0\n",
    "\n",
    "k = 0\n",
    "for index, row in group_logons.iterrows():\n",
    "    if(k == sz-1):\n",
    "        break\n",
    "    k+=1\n",
    "    xhatminus[k] = xhat[k-1]\n",
    "    Pminus[k] = P[k-1] + Q\n",
    "\n",
    "    K[k] = Pminus[k]/(Pminus[k] + R)\n",
    "    xhat[k] = xhatminus[k] + K[k]*(row['count']-xhatminus[k])\n",
    "    P[k] = (1-K[k]*Pminus[k])    "
   ]
  },
  {
   "cell_type": "code",
   "execution_count": 197,
   "metadata": {
    "collapsed": true
   },
   "outputs": [],
   "source": [
    "counts = group_logons['count'].as_matrix()"
   ]
  },
  {
   "cell_type": "code",
   "execution_count": 198,
   "metadata": {},
   "outputs": [
    {
     "data": {
      "text/plain": [
       "<matplotlib.text.Text at 0x1c37d5ccf28>"
      ]
     },
     "execution_count": 198,
     "metadata": {},
     "output_type": "execute_result"
    },
    {
     "data": {
      "image/png": "[encoded data removed]",
      "text/plain": [
       "<matplotlib.figure.Figure at 0x1c37d69ce48>"
      ]
     },
     "metadata": {},
     "output_type": "display_data"
    }
   ],
   "source": [
    "plt.figure(figsize=(20,10))\n",
    "plt.plot(counts,label='noisy measurements', color='g')\n",
    "plt.plot(xhat,'b-',label='a posteri estimate')\n",
    "plt.legend()\n",
    "plt.title('Estimate vs. iteration step', fontweight='bold')\n",
    "plt.xlabel('Day')\n",
    "plt.ylabel('Count of Logons')"
   ]
  },
  {
   "cell_type": "code",
   "execution_count": 199,
   "metadata": {},
   "outputs": [
    {
     "data": {
      "text/plain": [
       "3.5469246054361374"
      ]
     },
     "execution_count": 199,
     "metadata": {},
     "output_type": "execute_result"
    }
   ],
   "source": [
    "xhat[101]"
   ]
  },
  {
   "cell_type": "code",
   "execution_count": 200,
   "metadata": {},
   "outputs": [],
   "source": [
    "margin = np.sqrt((counts - xhat)**2)"
   ]
  },
  {
   "cell_type": "code",
   "execution_count": 201,
   "metadata": {},
   "outputs": [
    {
     "data": {
      "text/plain": [
       "array([  2.00000000e+00,   1.32890365e+00,   4.97512438e-03,\n",
       "         3.50189326e-03,   2.53682467e-03,   1.81180930e-03,\n",
       "         1.30286433e-03,   9.33772973e-04,   6.70321094e-04,\n",
       "         4.80822445e-04,   3.45025620e-04,   9.99752464e-01,\n",
       "         2.82671764e-01,   2.02809851e-01,   1.45514006e-01,\n",
       "         1.04403755e-01,   7.49082390e-02,   9.46254512e-01,\n",
       "         3.21076415e-01,   2.30367438e-01,   1.65285174e-01,\n",
       "         1.18589612e-01,   8.50862579e-02,   6.10481049e-02,\n",
       "         4.38010939e-02,   3.14266235e-02,   2.25481280e-02,\n",
       "         1.61779414e-02,   1.16074287e-02,   9.91671845e-01,\n",
       "         7.11509578e-01,   4.89502619e-01,   3.51210739e-01,\n",
       "         2.51988403e-01,   1.80797875e-01,   1.29719746e-01,\n",
       "         9.30719595e-02,   9.33222274e-01,   3.30427107e-01,\n",
       "         2.37076461e-01,   8.29901218e-01,   5.95441596e-01,\n",
       "         5.72779644e-01,   4.10960748e-01,   2.94858132e-01,\n",
       "         2.11556259e-01,   1.51788422e-01,   1.08905901e-01,\n",
       "         7.81383400e-02,   5.60630793e-02,   9.59775587e-01,\n",
       "         3.11375506e-01,   2.23407225e-01,   1.60291311e-01,\n",
       "         1.15006596e-01,   8.25154963e-02,   5.92036229e-02,\n",
       "         9.57522294e-01,   3.12992209e-01,   2.24567185e-01,\n",
       "         1.61123565e-01,   8.84396275e-01,   6.34540976e-01,\n",
       "         5.44726429e-01,   3.90832990e-01,   2.80416770e-01,\n",
       "         2.01194799e-01,   1.44354231e-01,   1.03571981e-01,\n",
       "         7.43113331e-02,   5.33172597e-02,   3.82543289e-02,\n",
       "         2.74469035e-02,   1.96927389e-02,   1.41292429e-02,\n",
       "         1.01375185e-02,   7.27351645e-03,   5.21863825e-03,\n",
       "         3.74429416e-03,   2.68647453e-03,   1.92750492e-03,\n",
       "         9.98617044e-01,   2.83507346e-01,   2.03412241e-01,\n",
       "         1.45945212e-01,   1.04713486e-01,   7.51303457e-02,\n",
       "         9.46095111e-01,   3.21191040e-01,   2.30449723e-01,\n",
       "         1.65344197e-01,   1.18631965e-01,   8.51166441e-02,\n",
       "         6.10699072e-02,   4.38167365e-02,   3.14378469e-02,\n",
       "         2.25561806e-02,   1.61837190e-02,   1.16115741e-02,\n",
       "         8.33112912e-03,   8.99402254e+00,   2.54692461e+00,\n",
       "         8.27379955e-01,   1.59363263e+00,   1.14340735e+00,\n",
       "         8.20377513e-01,   4.11391519e-01,   2.95167204e-01,\n",
       "         2.11778013e-01,   8.48052473e-01,   6.08464847e-01,\n",
       "         5.63435658e-01,   5.95743421e-01,   5.72563089e-01,\n",
       "         5.89194627e-01,   5.77261750e-01,   5.85823409e-01,\n",
       "         4.20319452e-01,   3.01572862e-01,   2.16373976e-01,\n",
       "         1.55245061e-01,   8.88614012e-01,   6.37567139e-01,\n",
       "         5.42555203e-01,   6.10724833e-01,   5.61814152e-01,\n",
       "         4.03093173e-01,   2.89213266e-01,   2.07506152e-01,\n",
       "         8.51117468e-01,   6.10663935e-01,   5.61857846e-01,\n",
       "         5.96875478e-01,   4.28249145e-01,   6.92737704e-01,\n",
       "         5.02971155e-01,   6.39125789e-01,   4.58563105e-01,\n",
       "         3.29012105e-01,   2.36061219e-01,   8.30629639e-01,\n",
       "         4.04035773e-01,   2.89889568e-01,   2.07991389e-01,\n",
       "         1.49230681e-01,   1.07070761e-01,   7.68216546e-02,\n",
       "         5.51183775e-02,   9.60453396e-01,   3.10889188e-01,\n",
       "         7.76941701e-01,   4.42556059e-01,   3.17527291e-01,\n",
       "         7.72178962e-01,   4.45973252e-01,   3.19979075e-01,\n",
       "         2.29580156e-01,   1.64720296e-01,   1.18184326e-01,\n",
       "         8.47954696e-02,   9.39160531e-01,   6.73833503e-01,\n",
       "         5.16534634e-01,   3.70605802e-01,   2.65904068e-01,\n",
       "         1.90782155e-01,   1.36883316e-01,   9.01788287e-01,\n",
       "         3.52980518e-01,   2.53258193e-01,   1.81708930e-01,\n",
       "         1.30373414e-01,   9.06459044e-01,   3.49629321e-01,\n",
       "         7.49146241e-01,   4.62498882e-01,   3.31835966e-01,\n",
       "         2.38087296e-01,   1.70824040e-01,   1.22563670e-01,\n",
       "         8.79375830e-02,   6.30938883e-02,   4.52689123e-02,\n",
       "         3.24797612e-02,   9.76696262e-01,   7.00764823e-01,\n",
       "         5.02788181e-01,   3.60742930e-01,   7.41172394e-01,\n",
       "         4.68219997e-01,   6.64059221e-01,   4.76452466e-01,\n",
       "         3.41847452e-01,   2.45270386e-01,   1.75977799e-01,\n",
       "         1.26261414e-01,   9.09409341e-01,   6.52487474e-01,\n",
       "         4.68149912e-01,   6.64109506e-01,   4.76488545e-01,\n",
       "         3.41873337e-01,   7.54711042e-01,   4.58506221e-01,\n",
       "         6.71028708e-01,   4.81452968e-01,   6.54564764e-01,\n",
       "         5.30359664e-01,   6.19474948e-01,   4.44463923e-01,\n",
       "         3.18896155e-01,   2.28803177e-01,   8.35837175e-01,\n",
       "         4.00299445e-01,   7.12791191e-01,   4.88583081e-01,\n",
       "         3.50550985e-01,   2.51515039e-01,   1.80458244e-01,\n",
       "         1.29476066e-01,   9.07102878e-01,   6.50832621e-01,\n",
       "         5.33037420e-01,   3.82446302e-01,   2.74399448e-01,\n",
       "         1.96877461e-01,   1.41256606e-01,   1.01349483e-01,\n",
       "         7.27167238e-02,   5.21731515e-02,   3.74334486e-02,\n",
       "         2.68579343e-02,   9.80729838e-01,   2.96341147e-01,\n",
       "         2.12620299e-01,   1.52551855e-01,   1.09453653e-01,\n",
       "         7.85313436e-02,   5.63450535e-02,   9.59573275e-01,\n",
       "         3.11520662e-01,   7.76488628e-01,   4.42881132e-01,\n",
       "         6.82239474e-01,   5.10503477e-01,   3.66278538e-01,\n",
       "         2.62799321e-01,   1.88554546e-01,   1.35285040e-01,\n",
       "         9.02935026e-01,   3.52157750e-01,   2.52667869e-01,\n",
       "         1.81285382e-01,   8.69930475e-01,   6.24161983e-01,\n",
       "         5.52173200e-01,   6.03824065e-01,   5.66765349e-01,\n",
       "         4.06645582e-01,   2.91762066e-01,   2.09334878e-01,\n",
       "         1.50194615e-01,   1.07762369e-01,   7.73178726e-02,\n",
       "         9.44525594e-01,   3.22317146e-01,   7.68742314e-01,\n",
       "         4.48438995e-01,   3.21748209e-01,   2.30849483e-01,\n",
       "         1.65631019e-01,   8.81162244e-01,   6.32220608e-01,\n",
       "         5.46391258e-01,   3.92027479e-01,   2.81273798e-01,\n",
       "         2.01809704e-01,   1.44795416e-01,   1.03888525e-01,\n",
       "         7.45384483e-02,   9.46519789e-01,   6.79113659e-01,\n",
       "         4.87253798e-01,   6.50402756e-01,   4.66654158e-01,\n",
       "         3.34817314e-01,   7.59773632e-01,   4.54873889e-01,\n",
       "         6.73634852e-01,   5.16677163e-01,   3.70708065e-01,\n",
       "         2.65977440e-01,   1.90834798e-01,   1.36921087e-01,\n",
       "         9.82388126e-02,   9.29515135e-01,   6.66913077e-01,\n",
       "         5.21499935e-01,   6.25831669e-01,   5.50975225e-01,\n",
       "         3.95316406e-01,   7.16366446e-01,   4.86017889e-01,\n",
       "         6.51289502e-01,   5.32709615e-01,   3.82211107e-01,\n",
       "         2.74230699e-01,   8.03243613e-01,   4.23684834e-01,\n",
       "         3.03987472e-01,   7.81893578e-01,   4.39003162e-01,\n",
       "         6.85021859e-01,   5.08507158e-01,   3.64846209e-01,\n",
       "         2.61771647e-01,   8.12182795e-01,   5.82728894e-01,\n",
       "         4.18099185e-01,   7.00020147e-01,   5.02253888e-01,\n",
       "         6.39640418e-01,   4.58932344e-01,   6.70722972e-01,\n",
       "         4.81233607e-01,   3.45277848e-01,   2.47731643e-01,\n",
       "         8.22256286e-01,   5.89956472e-01,   5.76715138e-01,\n",
       "         5.86215595e-01,   4.20600840e-01,   6.98225247e-01,\n",
       "         4.99033926e-01,   3.58049308e-01,   7.43105027e-01,\n",
       "         5.33166638e-01,   3.82539014e-01,   2.74465968e-01,\n",
       "         1.96925188e-01,   1.41290850e-01,   1.01374052e-01,\n",
       "         9.27265648e-01,   3.34700896e-01,   2.40142840e-01])"
      ]
     },
     "execution_count": 201,
     "metadata": {},
     "output_type": "execute_result"
    }
   ],
   "source": [
    "margin"
   ]
  },
  {
   "cell_type": "code",
   "execution_count": 203,
   "metadata": {},
   "outputs": [
    {
     "data": {
      "text/plain": [
       "<matplotlib.text.Text at 0x1c3839a3e10>"
      ]
     },
     "execution_count": 203,
     "metadata": {},
     "output_type": "execute_result"
    },
    {
     "data": {
      "image/png": "[encoded data removed]",
      "text/plain": [
       "<matplotlib.figure.Figure at 0x1c383973550>"
      ]
     },
     "metadata": {},
     "output_type": "display_data"
    }
   ],
   "source": [
    "plt.figure(figsize=(20,10))\n",
    "plt.plot(margin,label='margin', color='g')\n",
    "plt.legend()\n",
    "plt.title('Difference in Estimate and Actual', fontweight='bold')\n",
    "plt.xlabel('Day')\n",
    "plt.ylabel('Difference in Prediction vs. Real Counts')"
   ]
  },
  {
   "cell_type": "code",
   "execution_count": null,
   "metadata": {
    "collapsed": true
   },
   "outputs": [],
   "source": [
    "from statsmodels.graphics.tsaplots import plot_acf"
   ]
  },
  {
   "cell_type": "code",
   "execution_count": 156,
   "metadata": {},
   "outputs": [
    {
     "name": "stderr",
     "output_type": "stream",
     "text": [
      "C:\\Users\\kim\\Anaconda3\\lib\\site-packages\\statsmodels\\compat\\pandas.py:56: FutureWarning: The pandas.core.datetools module is deprecated and will be removed in a future version. Please use the pandas.tseries module instead.\n",
      "  from pandas.core import datetools\n"
     ]
    }
   ],
   "source": [
    "from statsmodels.graphics.tsaplots import plot_pacf"
   ]
  },
  {
   "cell_type": "code",
   "execution_count": 154,
   "metadata": {},
   "outputs": [],
   "source": [
    "del group_logons['pc']"
   ]
  },
  {
   "cell_type": "code",
   "execution_count": 160,
   "metadata": {},
   "outputs": [
    {
     "data": {
      "text/html": [
       "<div>\n",
       "<style>\n",
       "    .dataframe thead tr:only-child th {\n",
       "        text-align: right;\n",
       "    }\n",
       "\n",
       "    .dataframe thead th {\n",
       "        text-align: left;\n",
       "    }\n",
       "\n",
       "    .dataframe tbody tr th {\n",
       "        vertical-align: top;\n",
       "    }\n",
       "</style>\n",
       "<table border=\"1\" class=\"dataframe\">\n",
       "  <thead>\n",
       "    <tr style=\"text-align: right;\">\n",
       "      <th></th>\n",
       "      <th>count</th>\n",
       "    </tr>\n",
       "    <tr>\n",
       "      <th>new_date</th>\n",
       "      <th></th>\n",
       "    </tr>\n",
       "  </thead>\n",
       "  <tbody>\n",
       "    <tr>\n",
       "      <th>08/23/2010</th>\n",
       "      <td>1</td>\n",
       "    </tr>\n",
       "    <tr>\n",
       "      <th>11/17/2010</th>\n",
       "      <td>1</td>\n",
       "    </tr>\n",
       "    <tr>\n",
       "      <th>11/23/2010</th>\n",
       "      <td>1</td>\n",
       "    </tr>\n",
       "    <tr>\n",
       "      <th>05/04/2011</th>\n",
       "      <td>1</td>\n",
       "    </tr>\n",
       "    <tr>\n",
       "      <th>06/07/2010</th>\n",
       "      <td>1</td>\n",
       "    </tr>\n",
       "  </tbody>\n",
       "</table>\n",
       "</div>"
      ],
      "text/plain": [
       "            count\n",
       "new_date         \n",
       "08/23/2010      1\n",
       "11/17/2010      1\n",
       "11/23/2010      1\n",
       "05/04/2011      1\n",
       "06/07/2010      1"
      ]
     },
     "execution_count": 160,
     "metadata": {},
     "output_type": "execute_result"
    }
   ],
   "source": [
    "group_logons.set_index('new_date').head()"
   ]
  },
  {
   "cell_type": "code",
   "execution_count": 166,
   "metadata": {},
   "outputs": [
    {
     "data": {
      "text/plain": [
       "<matplotlib.axes._subplots.AxesSubplot at 0x1c37d360da0>"
      ]
     },
     "execution_count": 166,
     "metadata": {},
     "output_type": "execute_result"
    },
    {
     "data": {
      "image/png": "[encoded data removed]",
      "text/plain": [
       "<matplotlib.figure.Figure at 0x1c37d371cc0>"
      ]
     },
     "metadata": {},
     "output_type": "display_data"
    }
   ],
   "source": [
    "group_logons.plot()"
   ]
  },
  {
   "cell_type": "code",
   "execution_count": null,
   "metadata": {
    "collapsed": true
   },
   "outputs": [],
   "source": []
  }
 ],
 "metadata": {
  "kernelspec": {
   "display_name": "Python 3",
   "language": "python",
   "name": "python3"
  },
  "language_info": {
   "codemirror_mode": {
    "name": "ipython",
    "version": 3
   },
   "file_extension": ".py",
   "mimetype": "text/x-python",
   "name": "python",
   "nbconvert_exporter": "python",
   "pygments_lexer": "ipython3",
   "version": "3.6.1"
  }
 },
 "nbformat": 4,
 "nbformat_minor": 2
}
