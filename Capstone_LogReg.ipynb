{
 "cells": [
  {
   "cell_type": "markdown",
   "metadata": {
    "collapsed": true
   },
   "source": [
    "# Logistic Regression \n",
    "\n",
    "## Hypothesis:  \n",
    "Determine what features best predict which people identify themselves as \"Data Scientists\" based on the other features of the data.  \n",
    "\n",
    "The formal definition of Data Scientist is not clear.  Job criteria are random, focused on different areas of Data Science, and not consistent across organizations.  So, what does one really need to have in order to call themselves a Data Scientist?  In this capstone, that is what we will try to determine.\n",
    "\n",
    "## Data: \n",
    "The data used for this project was obtained from Kaggle's recent survey across 16,000 professionals working in the field of Data Science.  The survey had multiple questions and responses from the population that help to define the true characteristics and values that make up a \"Data Scientist\" according to people actively working in this field.  The term \"Data Scientist\" has taken on multiple definitions, and in this project we attempt to determine what features ultimately define the people that actually call themselves by the title, \"Data Scientist\". \n",
    "\n",
    "The data is available here:\n",
    "https://www.kaggle.com/kaggle/kaggle-survey-2017/data"
   ]
  },
  {
   "cell_type": "code",
   "execution_count": 133,
   "metadata": {
    "collapsed": true
   },
   "outputs": [],
   "source": [
    "import pandas as pd\n",
    "import numpy as np\n",
    "import seaborn as sns\n",
    "import matplotlib.pyplot as plt\n",
    "from sklearn.linear_model import LogisticRegression\n",
    "from sklearn.feature_selection import SelectKBest\n",
    "from sklearn.feature_selection import chi2\n",
    "from sklearn.model_selection import train_test_split\n",
    "\n",
    "%matplotlib inline"
   ]
  },
  {
   "cell_type": "code",
   "execution_count": 134,
   "metadata": {
    "collapsed": true
   },
   "outputs": [],
   "source": [
    "data_file = 'multipleChoiceResponses.csv'"
   ]
  },
  {
   "cell_type": "code",
   "execution_count": 135,
   "metadata": {
    "collapsed": true
   },
   "outputs": [],
   "source": [
    "df = pd.read_csv(data_file, encoding='latin-1', low_memory=False)"
   ]
  },
  {
   "cell_type": "code",
   "execution_count": 136,
   "metadata": {},
   "outputs": [
    {
     "data": {
      "text/html": [
       "<div>\n",
       "<style>\n",
       "    .dataframe thead tr:only-child th {\n",
       "        text-align: right;\n",
       "    }\n",
       "\n",
       "    .dataframe thead th {\n",
       "        text-align: left;\n",
       "    }\n",
       "\n",
       "    .dataframe tbody tr th {\n",
       "        vertical-align: top;\n",
       "    }\n",
       "</style>\n",
       "<table border=\"1\" class=\"dataframe\">\n",
       "  <thead>\n",
       "    <tr style=\"text-align: right;\">\n",
       "      <th></th>\n",
       "      <th>GenderSelect</th>\n",
       "      <th>Country</th>\n",
       "      <th>Age</th>\n",
       "      <th>EmploymentStatus</th>\n",
       "      <th>StudentStatus</th>\n",
       "      <th>LearningDataScience</th>\n",
       "      <th>CodeWriter</th>\n",
       "      <th>CareerSwitcher</th>\n",
       "      <th>CurrentJobTitleSelect</th>\n",
       "      <th>TitleFit</th>\n",
       "      <th>...</th>\n",
       "      <th>JobFactorExperienceLevel</th>\n",
       "      <th>JobFactorDepartment</th>\n",
       "      <th>JobFactorTitle</th>\n",
       "      <th>JobFactorCompanyFunding</th>\n",
       "      <th>JobFactorImpact</th>\n",
       "      <th>JobFactorRemote</th>\n",
       "      <th>JobFactorIndustry</th>\n",
       "      <th>JobFactorLeaderReputation</th>\n",
       "      <th>JobFactorDiversity</th>\n",
       "      <th>JobFactorPublishingOpportunity</th>\n",
       "    </tr>\n",
       "  </thead>\n",
       "  <tbody>\n",
       "    <tr>\n",
       "      <th>0</th>\n",
       "      <td>Non-binary, genderqueer, or gender non-conforming</td>\n",
       "      <td>NaN</td>\n",
       "      <td>NaN</td>\n",
       "      <td>Employed full-time</td>\n",
       "      <td>NaN</td>\n",
       "      <td>NaN</td>\n",
       "      <td>Yes</td>\n",
       "      <td>NaN</td>\n",
       "      <td>DBA/Database Engineer</td>\n",
       "      <td>Fine</td>\n",
       "      <td>...</td>\n",
       "      <td>NaN</td>\n",
       "      <td>NaN</td>\n",
       "      <td>NaN</td>\n",
       "      <td>NaN</td>\n",
       "      <td>NaN</td>\n",
       "      <td>NaN</td>\n",
       "      <td>NaN</td>\n",
       "      <td>NaN</td>\n",
       "      <td>NaN</td>\n",
       "      <td>NaN</td>\n",
       "    </tr>\n",
       "    <tr>\n",
       "      <th>1</th>\n",
       "      <td>Female</td>\n",
       "      <td>United States</td>\n",
       "      <td>30.0</td>\n",
       "      <td>Not employed, but looking for work</td>\n",
       "      <td>NaN</td>\n",
       "      <td>NaN</td>\n",
       "      <td>NaN</td>\n",
       "      <td>NaN</td>\n",
       "      <td>NaN</td>\n",
       "      <td>NaN</td>\n",
       "      <td>...</td>\n",
       "      <td>NaN</td>\n",
       "      <td>NaN</td>\n",
       "      <td>NaN</td>\n",
       "      <td>NaN</td>\n",
       "      <td>NaN</td>\n",
       "      <td>NaN</td>\n",
       "      <td>NaN</td>\n",
       "      <td>Somewhat important</td>\n",
       "      <td>NaN</td>\n",
       "      <td>NaN</td>\n",
       "    </tr>\n",
       "    <tr>\n",
       "      <th>2</th>\n",
       "      <td>Male</td>\n",
       "      <td>Canada</td>\n",
       "      <td>28.0</td>\n",
       "      <td>Not employed, but looking for work</td>\n",
       "      <td>NaN</td>\n",
       "      <td>NaN</td>\n",
       "      <td>NaN</td>\n",
       "      <td>NaN</td>\n",
       "      <td>NaN</td>\n",
       "      <td>NaN</td>\n",
       "      <td>...</td>\n",
       "      <td>Very Important</td>\n",
       "      <td>Very Important</td>\n",
       "      <td>Very Important</td>\n",
       "      <td>Very Important</td>\n",
       "      <td>Very Important</td>\n",
       "      <td>Very Important</td>\n",
       "      <td>Very Important</td>\n",
       "      <td>Very Important</td>\n",
       "      <td>Very Important</td>\n",
       "      <td>Very Important</td>\n",
       "    </tr>\n",
       "    <tr>\n",
       "      <th>3</th>\n",
       "      <td>Male</td>\n",
       "      <td>United States</td>\n",
       "      <td>56.0</td>\n",
       "      <td>Independent contractor, freelancer, or self-em...</td>\n",
       "      <td>NaN</td>\n",
       "      <td>NaN</td>\n",
       "      <td>Yes</td>\n",
       "      <td>NaN</td>\n",
       "      <td>Operations Research Practitioner</td>\n",
       "      <td>Poorly</td>\n",
       "      <td>...</td>\n",
       "      <td>NaN</td>\n",
       "      <td>NaN</td>\n",
       "      <td>NaN</td>\n",
       "      <td>NaN</td>\n",
       "      <td>NaN</td>\n",
       "      <td>NaN</td>\n",
       "      <td>NaN</td>\n",
       "      <td>NaN</td>\n",
       "      <td>NaN</td>\n",
       "      <td>NaN</td>\n",
       "    </tr>\n",
       "    <tr>\n",
       "      <th>4</th>\n",
       "      <td>Male</td>\n",
       "      <td>Taiwan</td>\n",
       "      <td>38.0</td>\n",
       "      <td>Employed full-time</td>\n",
       "      <td>NaN</td>\n",
       "      <td>NaN</td>\n",
       "      <td>Yes</td>\n",
       "      <td>NaN</td>\n",
       "      <td>Computer Scientist</td>\n",
       "      <td>Fine</td>\n",
       "      <td>...</td>\n",
       "      <td>NaN</td>\n",
       "      <td>NaN</td>\n",
       "      <td>NaN</td>\n",
       "      <td>NaN</td>\n",
       "      <td>NaN</td>\n",
       "      <td>NaN</td>\n",
       "      <td>NaN</td>\n",
       "      <td>NaN</td>\n",
       "      <td>NaN</td>\n",
       "      <td>NaN</td>\n",
       "    </tr>\n",
       "  </tbody>\n",
       "</table>\n",
       "<p>5 rows × 228 columns</p>\n",
       "</div>"
      ],
      "text/plain": [
       "                                        GenderSelect        Country   Age  \\\n",
       "0  Non-binary, genderqueer, or gender non-conforming            NaN   NaN   \n",
       "1                                             Female  United States  30.0   \n",
       "2                                               Male         Canada  28.0   \n",
       "3                                               Male  United States  56.0   \n",
       "4                                               Male         Taiwan  38.0   \n",
       "\n",
       "                                    EmploymentStatus StudentStatus  \\\n",
       "0                                 Employed full-time           NaN   \n",
       "1                 Not employed, but looking for work           NaN   \n",
       "2                 Not employed, but looking for work           NaN   \n",
       "3  Independent contractor, freelancer, or self-em...           NaN   \n",
       "4                                 Employed full-time           NaN   \n",
       "\n",
       "  LearningDataScience CodeWriter CareerSwitcher  \\\n",
       "0                 NaN        Yes            NaN   \n",
       "1                 NaN        NaN            NaN   \n",
       "2                 NaN        NaN            NaN   \n",
       "3                 NaN        Yes            NaN   \n",
       "4                 NaN        Yes            NaN   \n",
       "\n",
       "              CurrentJobTitleSelect TitleFit              ...                \\\n",
       "0             DBA/Database Engineer     Fine              ...                 \n",
       "1                               NaN      NaN              ...                 \n",
       "2                               NaN      NaN              ...                 \n",
       "3  Operations Research Practitioner   Poorly              ...                 \n",
       "4                Computer Scientist     Fine              ...                 \n",
       "\n",
       "  JobFactorExperienceLevel JobFactorDepartment  JobFactorTitle  \\\n",
       "0                      NaN                 NaN             NaN   \n",
       "1                      NaN                 NaN             NaN   \n",
       "2           Very Important      Very Important  Very Important   \n",
       "3                      NaN                 NaN             NaN   \n",
       "4                      NaN                 NaN             NaN   \n",
       "\n",
       "  JobFactorCompanyFunding JobFactorImpact JobFactorRemote JobFactorIndustry  \\\n",
       "0                     NaN             NaN             NaN               NaN   \n",
       "1                     NaN             NaN             NaN               NaN   \n",
       "2          Very Important  Very Important  Very Important    Very Important   \n",
       "3                     NaN             NaN             NaN               NaN   \n",
       "4                     NaN             NaN             NaN               NaN   \n",
       "\n",
       "  JobFactorLeaderReputation JobFactorDiversity JobFactorPublishingOpportunity  \n",
       "0                       NaN                NaN                            NaN  \n",
       "1        Somewhat important                NaN                            NaN  \n",
       "2            Very Important     Very Important                 Very Important  \n",
       "3                       NaN                NaN                            NaN  \n",
       "4                       NaN                NaN                            NaN  \n",
       "\n",
       "[5 rows x 228 columns]"
      ]
     },
     "execution_count": 136,
     "metadata": {},
     "output_type": "execute_result"
    }
   ],
   "source": [
    "df.head()"
   ]
  },
  {
   "cell_type": "code",
   "execution_count": 137,
   "metadata": {},
   "outputs": [],
   "source": [
    "# Removing these data elements as they are not normalized and not considered as valid features for the purposes of this Capstone\n",
    "del df['Country']\n",
    "del df['CompensationAmount']\n",
    "del df['CompensationCurrency']"
   ]
  },
  {
   "cell_type": "code",
   "execution_count": 138,
   "metadata": {},
   "outputs": [
    {
     "data": {
      "text/plain": [
       "['Age',\n",
       " 'AlgorithmUnderstandingLevel',\n",
       " 'BlogsPodcastsNewslettersSelect',\n",
       " 'CareerSwitcher',\n",
       " 'CodeWriter',\n",
       " 'CoursePlatformSelect',\n",
       " 'CurrentEmployerType',\n",
       " 'CurrentJobTitleSelect',\n",
       " 'DataScienceIdentitySelect',\n",
       " 'EmployerIndustry',\n",
       " 'EmployerMLTime',\n",
       " 'EmployerSearchMethod',\n",
       " 'EmployerSize',\n",
       " 'EmployerSizeChange',\n",
       " 'EmploymentStatus',\n",
       " 'FirstTrainingSelect',\n",
       " 'FormalEducation',\n",
       " 'GenderSelect',\n",
       " 'HardwarePersonalProjectsSelect',\n",
       " 'JobFactorCommute',\n",
       " 'JobFactorCompanyFunding',\n",
       " 'JobFactorDepartment',\n",
       " 'JobFactorDiversity',\n",
       " 'JobFactorExperienceLevel',\n",
       " 'JobFactorImpact',\n",
       " 'JobFactorIndustry',\n",
       " 'JobFactorLanguages',\n",
       " 'JobFactorLeaderReputation',\n",
       " 'JobFactorLearning',\n",
       " 'JobFactorManagement',\n",
       " 'JobFactorOffice',\n",
       " 'JobFactorPublishingOpportunity',\n",
       " 'JobFactorRemote',\n",
       " 'JobFactorSalary',\n",
       " 'JobFactorTitle',\n",
       " 'JobFunctionSelect',\n",
       " 'JobHuntTime',\n",
       " 'JobSatisfaction',\n",
       " 'JobSearchResource',\n",
       " 'JobSkillImportanceBigData',\n",
       " 'JobSkillImportanceDegree',\n",
       " 'JobSkillImportanceEnterpriseTools',\n",
       " 'JobSkillImportanceKaggleRanking',\n",
       " 'JobSkillImportanceMOOC',\n",
       " 'JobSkillImportanceOtherSelect1',\n",
       " 'JobSkillImportanceOtherSelect2',\n",
       " 'JobSkillImportanceOtherSelect3',\n",
       " 'JobSkillImportancePython',\n",
       " 'JobSkillImportanceR',\n",
       " 'JobSkillImportanceSQL',\n",
       " 'JobSkillImportanceStats',\n",
       " 'JobSkillImportanceVisualizations',\n",
       " 'LanguageRecommendationSelect',\n",
       " 'LearningCategoryKaggle',\n",
       " 'LearningCategoryOnlineCourses',\n",
       " 'LearningCategoryOther',\n",
       " 'LearningCategorySelftTaught',\n",
       " 'LearningCategoryUniversity',\n",
       " 'LearningCategoryWork',\n",
       " 'LearningDataScience',\n",
       " 'LearningDataScienceTime',\n",
       " 'LearningPlatformSelect',\n",
       " 'LearningPlatformUsefulnessArxiv',\n",
       " 'LearningPlatformUsefulnessBlogs',\n",
       " 'LearningPlatformUsefulnessCollege',\n",
       " 'LearningPlatformUsefulnessCommunities',\n",
       " 'LearningPlatformUsefulnessCompany',\n",
       " 'LearningPlatformUsefulnessConferences',\n",
       " 'LearningPlatformUsefulnessCourses',\n",
       " 'LearningPlatformUsefulnessDocumentation',\n",
       " 'LearningPlatformUsefulnessFriends',\n",
       " 'LearningPlatformUsefulnessKaggle',\n",
       " 'LearningPlatformUsefulnessNewsletters',\n",
       " 'LearningPlatformUsefulnessPodcasts',\n",
       " 'LearningPlatformUsefulnessProjects',\n",
       " 'LearningPlatformUsefulnessSO',\n",
       " 'LearningPlatformUsefulnessTextbook',\n",
       " 'LearningPlatformUsefulnessTradeBook',\n",
       " 'LearningPlatformUsefulnessTutoring',\n",
       " 'LearningPlatformUsefulnessYouTube',\n",
       " 'MLMethodNextYearSelect',\n",
       " 'MLSkillsSelect',\n",
       " 'MLTechniquesSelect',\n",
       " 'MLToolNextYearSelect',\n",
       " 'MajorSelect',\n",
       " 'ParentsEducation',\n",
       " 'PastJobTitlesSelect',\n",
       " 'ProveKnowledgeSelect',\n",
       " 'PublicDatasetsSelect',\n",
       " 'RemoteWork',\n",
       " 'SalaryChange',\n",
       " 'StudentStatus',\n",
       " 'Tenure',\n",
       " 'TimeFindingInsights',\n",
       " 'TimeGatheringData',\n",
       " 'TimeModelBuilding',\n",
       " 'TimeOtherSelect',\n",
       " 'TimeProduction',\n",
       " 'TimeSpentStudying',\n",
       " 'TimeVisualizing',\n",
       " 'TitleFit',\n",
       " 'UniversityImportance',\n",
       " 'WorkAlgorithmsSelect',\n",
       " 'WorkChallengeFrequencyClarity',\n",
       " 'WorkChallengeFrequencyDataAccess',\n",
       " 'WorkChallengeFrequencyDataFunds',\n",
       " 'WorkChallengeFrequencyDeployment',\n",
       " 'WorkChallengeFrequencyDirtyData',\n",
       " 'WorkChallengeFrequencyDomainExpertise',\n",
       " 'WorkChallengeFrequencyEnvironments',\n",
       " 'WorkChallengeFrequencyExpectations',\n",
       " 'WorkChallengeFrequencyExplaining',\n",
       " 'WorkChallengeFrequencyHiringFunds',\n",
       " 'WorkChallengeFrequencyITCoordination',\n",
       " 'WorkChallengeFrequencyIntegration',\n",
       " 'WorkChallengeFrequencyML',\n",
       " 'WorkChallengeFrequencyOtherSelect',\n",
       " 'WorkChallengeFrequencyPass',\n",
       " 'WorkChallengeFrequencyPolitics',\n",
       " 'WorkChallengeFrequencyPrivacy',\n",
       " 'WorkChallengeFrequencyScaling',\n",
       " 'WorkChallengeFrequencyTalent',\n",
       " 'WorkChallengeFrequencyTools',\n",
       " 'WorkChallengeFrequencyUnusedResults',\n",
       " 'WorkChallengeFrequencyUnusefulInstrumenting',\n",
       " 'WorkChallengesSelect',\n",
       " 'WorkCodeSharing',\n",
       " 'WorkDataSharing',\n",
       " 'WorkDataSourcing',\n",
       " 'WorkDataStorage',\n",
       " 'WorkDataTypeSelect',\n",
       " 'WorkDataVisualizations',\n",
       " 'WorkDatasetSize',\n",
       " 'WorkDatasets',\n",
       " 'WorkDatasetsChallenge',\n",
       " 'WorkFrequencySelect3',\n",
       " 'WorkHardwareSelect',\n",
       " 'WorkInternalVsExternalTools',\n",
       " 'WorkMLTeamSeatSelect',\n",
       " 'WorkMethodsFrequencyA/B',\n",
       " 'WorkMethodsFrequencyAssociationRules',\n",
       " 'WorkMethodsFrequencyBayesian',\n",
       " 'WorkMethodsFrequencyCNNs',\n",
       " 'WorkMethodsFrequencyCollaborativeFiltering',\n",
       " 'WorkMethodsFrequencyCross-Validation',\n",
       " 'WorkMethodsFrequencyDataVisualization',\n",
       " 'WorkMethodsFrequencyDecisionTrees',\n",
       " 'WorkMethodsFrequencyEnsembleMethods',\n",
       " 'WorkMethodsFrequencyEvolutionaryApproaches',\n",
       " 'WorkMethodsFrequencyGANs',\n",
       " 'WorkMethodsFrequencyGBM',\n",
       " 'WorkMethodsFrequencyHMMs',\n",
       " 'WorkMethodsFrequencyKNN',\n",
       " 'WorkMethodsFrequencyLiftAnalysis',\n",
       " 'WorkMethodsFrequencyLogisticRegression',\n",
       " 'WorkMethodsFrequencyMLN',\n",
       " 'WorkMethodsFrequencyNLP',\n",
       " 'WorkMethodsFrequencyNaiveBayes',\n",
       " 'WorkMethodsFrequencyNeuralNetworks',\n",
       " 'WorkMethodsFrequencyPCA',\n",
       " 'WorkMethodsFrequencyPrescriptiveModeling',\n",
       " 'WorkMethodsFrequencyRNNs',\n",
       " 'WorkMethodsFrequencyRandomForests',\n",
       " 'WorkMethodsFrequencyRecommenderSystems',\n",
       " 'WorkMethodsFrequencySVMs',\n",
       " 'WorkMethodsFrequencySegmentation',\n",
       " 'WorkMethodsFrequencySelect1',\n",
       " 'WorkMethodsFrequencySelect2',\n",
       " 'WorkMethodsFrequencySelect3',\n",
       " 'WorkMethodsFrequencySimulation',\n",
       " 'WorkMethodsFrequencyTextAnalysis',\n",
       " 'WorkMethodsFrequencyTimeSeriesAnalysis',\n",
       " 'WorkMethodsSelect',\n",
       " 'WorkProductionFrequency',\n",
       " 'WorkToolsFrequencyAWS',\n",
       " 'WorkToolsFrequencyAmazonML',\n",
       " 'WorkToolsFrequencyAngoss',\n",
       " 'WorkToolsFrequencyAzure',\n",
       " 'WorkToolsFrequencyC',\n",
       " 'WorkToolsFrequencyCloudera',\n",
       " 'WorkToolsFrequencyDataRobot',\n",
       " 'WorkToolsFrequencyExcel',\n",
       " 'WorkToolsFrequencyFlume',\n",
       " 'WorkToolsFrequencyGCP',\n",
       " 'WorkToolsFrequencyHadoop',\n",
       " 'WorkToolsFrequencyIBMCognos',\n",
       " 'WorkToolsFrequencyIBMSPSSModeler',\n",
       " 'WorkToolsFrequencyIBMSPSSStatistics',\n",
       " 'WorkToolsFrequencyIBMWatson',\n",
       " 'WorkToolsFrequencyImpala',\n",
       " 'WorkToolsFrequencyJava',\n",
       " 'WorkToolsFrequencyJulia',\n",
       " 'WorkToolsFrequencyJupyter',\n",
       " 'WorkToolsFrequencyKNIMECommercial',\n",
       " 'WorkToolsFrequencyKNIMEFree',\n",
       " 'WorkToolsFrequencyMATLAB',\n",
       " 'WorkToolsFrequencyMathematica',\n",
       " 'WorkToolsFrequencyMicrosoftRServer',\n",
       " 'WorkToolsFrequencyMicrosoftSQL',\n",
       " 'WorkToolsFrequencyMinitab',\n",
       " 'WorkToolsFrequencyNoSQL',\n",
       " 'WorkToolsFrequencyOracle',\n",
       " 'WorkToolsFrequencyOrange',\n",
       " 'WorkToolsFrequencyPerl',\n",
       " 'WorkToolsFrequencyPython',\n",
       " 'WorkToolsFrequencyQlik',\n",
       " 'WorkToolsFrequencyR',\n",
       " 'WorkToolsFrequencyRapidMinerCommercial',\n",
       " 'WorkToolsFrequencyRapidMinerFree',\n",
       " 'WorkToolsFrequencySAPBusinessObjects',\n",
       " 'WorkToolsFrequencySASBase',\n",
       " 'WorkToolsFrequencySASEnterprise',\n",
       " 'WorkToolsFrequencySASJMP',\n",
       " 'WorkToolsFrequencySQL',\n",
       " 'WorkToolsFrequencySalfrod',\n",
       " 'WorkToolsFrequencySelect1',\n",
       " 'WorkToolsFrequencySelect2',\n",
       " 'WorkToolsFrequencySpark',\n",
       " 'WorkToolsFrequencyStan',\n",
       " 'WorkToolsFrequencyStatistica',\n",
       " 'WorkToolsFrequencyTIBCO',\n",
       " 'WorkToolsFrequencyTableau',\n",
       " 'WorkToolsFrequencyTensorFlow',\n",
       " 'WorkToolsFrequencyUnix',\n",
       " 'WorkToolsSelect']"
      ]
     },
     "execution_count": 138,
     "metadata": {},
     "output_type": "execute_result"
    }
   ],
   "source": [
    "sorted(df.columns)"
   ]
  },
  {
   "cell_type": "code",
   "execution_count": 139,
   "metadata": {
    "collapsed": true
   },
   "outputs": [],
   "source": [
    "label = \"DataScienceIdentitySelect\""
   ]
  },
  {
   "cell_type": "markdown",
   "metadata": {},
   "source": [
    "Based on the available information in the data set, we are selecting the following features.  We will transform the features and then select the best features that will tell us whether or not it is a good indicator of whether or not someone would consider themselves a Data Scientist."
   ]
  },
  {
   "cell_type": "code",
   "execution_count": 140,
   "metadata": {
    "collapsed": true
   },
   "outputs": [],
   "source": [
    "df.dropna(subset=[\"Age\",\n",
    "                  \"FormalEducation\", \n",
    "                  \"WorkToolsFrequencyJupyter\",\n",
    "                  \"WorkToolsFrequencyPython\",\n",
    "                  \"CurrentJobTitleSelect\",\n",
    "                  \"EmploymentStatus\",\n",
    "                  \"EmployerIndustry\",\n",
    "                  \"MajorSelect\", \n",
    "                  \"Tenure\",\n",
    "                  \"EmploymentStatus\",\n",
    "                  \"AlgorithmUnderstandingLevel\",\n",
    "                  \"PastJobTitlesSelect\",\n",
    "                  \"ParentsEducation\",\n",
    "                  label], inplace=True)"
   ]
  },
  {
   "cell_type": "code",
   "execution_count": 141,
   "metadata": {
    "collapsed": true
   },
   "outputs": [],
   "source": [
    "features = pd.DataFrame()"
   ]
  },
  {
   "cell_type": "code",
   "execution_count": 142,
   "metadata": {
    "collapsed": true
   },
   "outputs": [],
   "source": [
    "features = []\n",
    "for col in df.columns:\n",
    "    if col == 'Age' or col == 'DataScienceIdentitySelect': \n",
    "        continue\n",
    "    new_df = pd.get_dummies(df[col])\n",
    "    new_df.columns =[\"{}-{}\".format(col, c) for c in new_df.columns]\n",
    "    features.append(new_df)\n",
    "features = pd.concat(features, axis=1)"
   ]
  },
  {
   "cell_type": "markdown",
   "metadata": {},
   "source": [
    "In order to create somewhat decent bins of data, let's look at the histogram of the Age feature."
   ]
  },
  {
   "cell_type": "code",
   "execution_count": 143,
   "metadata": {},
   "outputs": [
    {
     "data": {
      "text/plain": [
       "<matplotlib.axes._subplots.AxesSubplot at 0x1e789902278>"
      ]
     },
     "execution_count": 143,
     "metadata": {},
     "output_type": "execute_result"
    },
    {
     "data": {
      "image/png": "[encoded data removed]",
      "text/plain": [
       "<matplotlib.figure.Figure at 0x1e789857780>"
      ]
     },
     "metadata": {},
     "output_type": "display_data"
    }
   ],
   "source": [
    "df.Age.hist()"
   ]
  },
  {
   "cell_type": "code",
   "execution_count": 144,
   "metadata": {
    "collapsed": true
   },
   "outputs": [],
   "source": [
    "age_bins = [0, 20, 30, 40, 50, 60, 100]\n",
    "age_names = ['Age-0-20','Age-20-30','Age-30-40','Age-40-50','Age-50-60','Age-60-100']\n",
    "categories = pd.cut(df['Age'], age_bins, labels=age_names)\n",
    "age_categories = pd.get_dummies(categories)"
   ]
  },
  {
   "cell_type": "code",
   "execution_count": 145,
   "metadata": {
    "collapsed": true
   },
   "outputs": [],
   "source": [
    "features = pd.concat([features, age_categories], axis=1)"
   ]
  },
  {
   "cell_type": "markdown",
   "metadata": {},
   "source": [
    "Now that we have the features identified and formatted properly, let's perform Logistic Regression to see how well these features can predict whether or not someone would call themselves a \"Data Scientist\" or not."
   ]
  },
  {
   "cell_type": "code",
   "execution_count": 146,
   "metadata": {},
   "outputs": [
    {
     "data": {
      "text/plain": [
       "Yes                       715\n",
       "Sort of (Explain more)    461\n",
       "No                        344\n",
       "Name: DataScienceIdentitySelect, dtype: int64"
      ]
     },
     "execution_count": 146,
     "metadata": {},
     "output_type": "execute_result"
    }
   ],
   "source": [
    "df.loc[df[label] == 0, label] = 'No'\n",
    "df[label].value_counts()"
   ]
  },
  {
   "cell_type": "code",
   "execution_count": 147,
   "metadata": {},
   "outputs": [],
   "source": [
    "X = features.as_matrix()\n",
    "Y = df[label].as_matrix()"
   ]
  },
  {
   "cell_type": "code",
   "execution_count": 148,
   "metadata": {},
   "outputs": [],
   "source": [
    "X_train, X_test, y_train, y_test = train_test_split(X, Y, test_size=0.2, random_state=0)"
   ]
  },
  {
   "cell_type": "code",
   "execution_count": 149,
   "metadata": {
    "collapsed": true
   },
   "outputs": [],
   "source": [
    "model = LogisticRegression(multi_class='ovr')"
   ]
  },
  {
   "cell_type": "code",
   "execution_count": 150,
   "metadata": {},
   "outputs": [
    {
     "data": {
      "text/plain": [
       "LogisticRegression(C=1.0, class_weight=None, dual=False, fit_intercept=True,\n",
       "          intercept_scaling=1, max_iter=100, multi_class='ovr', n_jobs=1,\n",
       "          penalty='l2', random_state=None, solver='liblinear', tol=0.0001,\n",
       "          verbose=0, warm_start=False)"
      ]
     },
     "execution_count": 150,
     "metadata": {},
     "output_type": "execute_result"
    }
   ],
   "source": [
    "model.fit(X_train, y_train)"
   ]
  },
  {
   "cell_type": "code",
   "execution_count": 151,
   "metadata": {},
   "outputs": [
    {
     "data": {
      "text/plain": [
       "0.45065789473684209"
      ]
     },
     "execution_count": 151,
     "metadata": {},
     "output_type": "execute_result"
    }
   ],
   "source": [
    "model.score(X_test, y_test)"
   ]
  },
  {
   "cell_type": "code",
   "execution_count": 152,
   "metadata": {},
   "outputs": [
    {
     "data": {
      "text/plain": [
       "0.89013157894736838"
      ]
     },
     "execution_count": 152,
     "metadata": {},
     "output_type": "execute_result"
    }
   ],
   "source": [
    "model.score(features, df[label])"
   ]
  },
  {
   "cell_type": "code",
   "execution_count": 153,
   "metadata": {},
   "outputs": [
    {
     "data": {
      "text/plain": [
       "Yes                       560\n",
       "Sort of (Explain more)    373\n",
       "No                        283\n",
       "dtype: int64"
      ]
     },
     "execution_count": 153,
     "metadata": {},
     "output_type": "execute_result"
    }
   ],
   "source": [
    "pd.Series(model.predict(X_train)).value_counts()"
   ]
  },
  {
   "cell_type": "code",
   "execution_count": 154,
   "metadata": {},
   "outputs": [
    {
     "data": {
      "text/plain": [
       "Yes                       152\n",
       "Sort of (Explain more)     85\n",
       "No                         67\n",
       "dtype: int64"
      ]
     },
     "execution_count": 154,
     "metadata": {},
     "output_type": "execute_result"
    }
   ],
   "source": [
    "pd.Series(model.predict(X_test)).value_counts()"
   ]
  },
  {
   "cell_type": "markdown",
   "metadata": {},
   "source": [
    "89% isn't too bad, but there might be some value stil in the features that we have selected.  So let's go through the features and see which ones are the best for predicting our label."
   ]
  },
  {
   "cell_type": "code",
   "execution_count": 155,
   "metadata": {
    "collapsed": true
   },
   "outputs": [],
   "source": [
    "kbest = SelectKBest(score_func=chi2)"
   ]
  },
  {
   "cell_type": "code",
   "execution_count": 156,
   "metadata": {},
   "outputs": [
    {
     "data": {
      "text/html": [
       "<div>\n",
       "<style>\n",
       "    .dataframe thead tr:only-child th {\n",
       "        text-align: right;\n",
       "    }\n",
       "\n",
       "    .dataframe thead th {\n",
       "        text-align: left;\n",
       "    }\n",
       "\n",
       "    .dataframe tbody tr th {\n",
       "        vertical-align: top;\n",
       "    }\n",
       "</style>\n",
       "<table border=\"1\" class=\"dataframe\">\n",
       "  <thead>\n",
       "    <tr style=\"text-align: right;\">\n",
       "      <th></th>\n",
       "      <th>GenderSelect-A different identity</th>\n",
       "      <th>GenderSelect-Female</th>\n",
       "      <th>GenderSelect-Male</th>\n",
       "      <th>GenderSelect-Non-binary, genderqueer, or gender non-conforming</th>\n",
       "      <th>EmploymentStatus-Employed full-time</th>\n",
       "      <th>EmploymentStatus-Employed part-time</th>\n",
       "      <th>EmploymentStatus-Independent contractor, freelancer, or self-employed</th>\n",
       "      <th>CodeWriter-Yes</th>\n",
       "      <th>CurrentJobTitleSelect-Business Analyst</th>\n",
       "      <th>CurrentJobTitleSelect-Computer Scientist</th>\n",
       "      <th>...</th>\n",
       "      <th>JobSatisfaction-7</th>\n",
       "      <th>JobSatisfaction-8</th>\n",
       "      <th>JobSatisfaction-9</th>\n",
       "      <th>JobSatisfaction-I prefer not to share</th>\n",
       "      <th>Age-0-20</th>\n",
       "      <th>Age-20-30</th>\n",
       "      <th>Age-30-40</th>\n",
       "      <th>Age-40-50</th>\n",
       "      <th>Age-50-60</th>\n",
       "      <th>Age-60-100</th>\n",
       "    </tr>\n",
       "  </thead>\n",
       "  <tbody>\n",
       "    <tr>\n",
       "      <th>4</th>\n",
       "      <td>0</td>\n",
       "      <td>0</td>\n",
       "      <td>1</td>\n",
       "      <td>0</td>\n",
       "      <td>1</td>\n",
       "      <td>0</td>\n",
       "      <td>0</td>\n",
       "      <td>1</td>\n",
       "      <td>0</td>\n",
       "      <td>1</td>\n",
       "      <td>...</td>\n",
       "      <td>0</td>\n",
       "      <td>0</td>\n",
       "      <td>0</td>\n",
       "      <td>0</td>\n",
       "      <td>0</td>\n",
       "      <td>0</td>\n",
       "      <td>1</td>\n",
       "      <td>0</td>\n",
       "      <td>0</td>\n",
       "      <td>0</td>\n",
       "    </tr>\n",
       "    <tr>\n",
       "      <th>9</th>\n",
       "      <td>0</td>\n",
       "      <td>0</td>\n",
       "      <td>1</td>\n",
       "      <td>0</td>\n",
       "      <td>1</td>\n",
       "      <td>0</td>\n",
       "      <td>0</td>\n",
       "      <td>1</td>\n",
       "      <td>0</td>\n",
       "      <td>0</td>\n",
       "      <td>...</td>\n",
       "      <td>1</td>\n",
       "      <td>0</td>\n",
       "      <td>0</td>\n",
       "      <td>0</td>\n",
       "      <td>0</td>\n",
       "      <td>0</td>\n",
       "      <td>1</td>\n",
       "      <td>0</td>\n",
       "      <td>0</td>\n",
       "      <td>0</td>\n",
       "    </tr>\n",
       "    <tr>\n",
       "      <th>14</th>\n",
       "      <td>0</td>\n",
       "      <td>0</td>\n",
       "      <td>1</td>\n",
       "      <td>0</td>\n",
       "      <td>1</td>\n",
       "      <td>0</td>\n",
       "      <td>0</td>\n",
       "      <td>1</td>\n",
       "      <td>0</td>\n",
       "      <td>0</td>\n",
       "      <td>...</td>\n",
       "      <td>0</td>\n",
       "      <td>0</td>\n",
       "      <td>0</td>\n",
       "      <td>0</td>\n",
       "      <td>0</td>\n",
       "      <td>1</td>\n",
       "      <td>0</td>\n",
       "      <td>0</td>\n",
       "      <td>0</td>\n",
       "      <td>0</td>\n",
       "    </tr>\n",
       "    <tr>\n",
       "      <th>23</th>\n",
       "      <td>0</td>\n",
       "      <td>0</td>\n",
       "      <td>1</td>\n",
       "      <td>0</td>\n",
       "      <td>0</td>\n",
       "      <td>1</td>\n",
       "      <td>0</td>\n",
       "      <td>1</td>\n",
       "      <td>0</td>\n",
       "      <td>0</td>\n",
       "      <td>...</td>\n",
       "      <td>0</td>\n",
       "      <td>0</td>\n",
       "      <td>0</td>\n",
       "      <td>0</td>\n",
       "      <td>0</td>\n",
       "      <td>1</td>\n",
       "      <td>0</td>\n",
       "      <td>0</td>\n",
       "      <td>0</td>\n",
       "      <td>0</td>\n",
       "    </tr>\n",
       "    <tr>\n",
       "      <th>33</th>\n",
       "      <td>0</td>\n",
       "      <td>0</td>\n",
       "      <td>1</td>\n",
       "      <td>0</td>\n",
       "      <td>1</td>\n",
       "      <td>0</td>\n",
       "      <td>0</td>\n",
       "      <td>1</td>\n",
       "      <td>0</td>\n",
       "      <td>0</td>\n",
       "      <td>...</td>\n",
       "      <td>0</td>\n",
       "      <td>0</td>\n",
       "      <td>1</td>\n",
       "      <td>0</td>\n",
       "      <td>0</td>\n",
       "      <td>0</td>\n",
       "      <td>1</td>\n",
       "      <td>0</td>\n",
       "      <td>0</td>\n",
       "      <td>0</td>\n",
       "    </tr>\n",
       "  </tbody>\n",
       "</table>\n",
       "<p>5 rows × 10081 columns</p>\n",
       "</div>"
      ],
      "text/plain": [
       "    GenderSelect-A different identity  GenderSelect-Female  GenderSelect-Male  \\\n",
       "4                                   0                    0                  1   \n",
       "9                                   0                    0                  1   \n",
       "14                                  0                    0                  1   \n",
       "23                                  0                    0                  1   \n",
       "33                                  0                    0                  1   \n",
       "\n",
       "    GenderSelect-Non-binary, genderqueer, or gender non-conforming  \\\n",
       "4                                                   0                \n",
       "9                                                   0                \n",
       "14                                                  0                \n",
       "23                                                  0                \n",
       "33                                                  0                \n",
       "\n",
       "    EmploymentStatus-Employed full-time  EmploymentStatus-Employed part-time  \\\n",
       "4                                     1                                    0   \n",
       "9                                     1                                    0   \n",
       "14                                    1                                    0   \n",
       "23                                    0                                    1   \n",
       "33                                    1                                    0   \n",
       "\n",
       "    EmploymentStatus-Independent contractor, freelancer, or self-employed  \\\n",
       "4                                                   0                       \n",
       "9                                                   0                       \n",
       "14                                                  0                       \n",
       "23                                                  0                       \n",
       "33                                                  0                       \n",
       "\n",
       "    CodeWriter-Yes  CurrentJobTitleSelect-Business Analyst  \\\n",
       "4                1                                       0   \n",
       "9                1                                       0   \n",
       "14               1                                       0   \n",
       "23               1                                       0   \n",
       "33               1                                       0   \n",
       "\n",
       "    CurrentJobTitleSelect-Computer Scientist     ...      JobSatisfaction-7  \\\n",
       "4                                          1     ...                      0   \n",
       "9                                          0     ...                      1   \n",
       "14                                         0     ...                      0   \n",
       "23                                         0     ...                      0   \n",
       "33                                         0     ...                      0   \n",
       "\n",
       "    JobSatisfaction-8  JobSatisfaction-9  \\\n",
       "4                   0                  0   \n",
       "9                   0                  0   \n",
       "14                  0                  0   \n",
       "23                  0                  0   \n",
       "33                  0                  1   \n",
       "\n",
       "    JobSatisfaction-I prefer not to share  Age-0-20  Age-20-30  Age-30-40  \\\n",
       "4                                       0         0          0          1   \n",
       "9                                       0         0          0          1   \n",
       "14                                      0         0          1          0   \n",
       "23                                      0         0          1          0   \n",
       "33                                      0         0          0          1   \n",
       "\n",
       "    Age-40-50  Age-50-60  Age-60-100  \n",
       "4           0          0           0  \n",
       "9           0          0           0  \n",
       "14          0          0           0  \n",
       "23          0          0           0  \n",
       "33          0          0           0  \n",
       "\n",
       "[5 rows x 10081 columns]"
      ]
     },
     "execution_count": 156,
     "metadata": {},
     "output_type": "execute_result"
    }
   ],
   "source": [
    "features.head()"
   ]
  },
  {
   "cell_type": "code",
   "execution_count": 157,
   "metadata": {},
   "outputs": [
    {
     "data": {
      "text/plain": [
       "array([[0, 0, 1, ..., 0, 0, 0],\n",
       "       [0, 1, 1, ..., 0, 0, 0],\n",
       "       [0, 1, 0, ..., 0, 0, 0],\n",
       "       ..., \n",
       "       [0, 0, 0, ..., 0, 0, 0],\n",
       "       [0, 0, 0, ..., 0, 0, 1],\n",
       "       [0, 0, 0, ..., 0, 0, 0]], dtype=uint8)"
      ]
     },
     "execution_count": 157,
     "metadata": {},
     "output_type": "execute_result"
    }
   ],
   "source": [
    "kbest.fit_transform(features, df[label])"
   ]
  },
  {
   "cell_type": "code",
   "execution_count": 158,
   "metadata": {
    "collapsed": true
   },
   "outputs": [],
   "source": [
    "records = list(zip(kbest.scores_.tolist(),features.columns.tolist() ))"
   ]
  },
  {
   "cell_type": "code",
   "execution_count": 159,
   "metadata": {
    "collapsed": true
   },
   "outputs": [],
   "source": [
    "feature_scores = pd.DataFrame.from_records(records)"
   ]
  },
  {
   "cell_type": "code",
   "execution_count": 160,
   "metadata": {
    "collapsed": true
   },
   "outputs": [],
   "source": [
    "feature_scores.columns = [\"Score\", \"feature\"]"
   ]
  },
  {
   "cell_type": "code",
   "execution_count": 161,
   "metadata": {},
   "outputs": [
    {
     "data": {
      "text/html": [
       "<div>\n",
       "<style>\n",
       "    .dataframe thead tr:only-child th {\n",
       "        text-align: right;\n",
       "    }\n",
       "\n",
       "    .dataframe thead th {\n",
       "        text-align: left;\n",
       "    }\n",
       "\n",
       "    .dataframe tbody tr th {\n",
       "        vertical-align: top;\n",
       "    }\n",
       "</style>\n",
       "<table border=\"1\" class=\"dataframe\">\n",
       "  <thead>\n",
       "    <tr style=\"text-align: right;\">\n",
       "      <th></th>\n",
       "      <th>Score</th>\n",
       "      <th>feature</th>\n",
       "    </tr>\n",
       "  </thead>\n",
       "  <tbody>\n",
       "    <tr>\n",
       "      <th>21</th>\n",
       "      <td>43.277890</td>\n",
       "      <td>CurrentJobTitleSelect-Software Developer/Softw...</td>\n",
       "    </tr>\n",
       "    <tr>\n",
       "      <th>1827</th>\n",
       "      <td>37.922086</td>\n",
       "      <td>FormalEducation-Doctoral degree</td>\n",
       "    </tr>\n",
       "    <tr>\n",
       "      <th>7465</th>\n",
       "      <td>37.719333</td>\n",
       "      <td>AlgorithmUnderstandingLevel-Enough to run the ...</td>\n",
       "    </tr>\n",
       "    <tr>\n",
       "      <th>1826</th>\n",
       "      <td>33.694344</td>\n",
       "      <td>FormalEducation-Bachelor's degree</td>\n",
       "    </tr>\n",
       "    <tr>\n",
       "      <th>1846</th>\n",
       "      <td>33.046463</td>\n",
       "      <td>Tenure-1 to 2 years</td>\n",
       "    </tr>\n",
       "  </tbody>\n",
       "</table>\n",
       "</div>"
      ],
      "text/plain": [
       "          Score                                            feature\n",
       "21    43.277890  CurrentJobTitleSelect-Software Developer/Softw...\n",
       "1827  37.922086                    FormalEducation-Doctoral degree\n",
       "7465  37.719333  AlgorithmUnderstandingLevel-Enough to run the ...\n",
       "1826  33.694344                  FormalEducation-Bachelor's degree\n",
       "1846  33.046463                                Tenure-1 to 2 years"
      ]
     },
     "execution_count": 161,
     "metadata": {},
     "output_type": "execute_result"
    }
   ],
   "source": [
    "feature_scores.sort_values(by=\"Score\", ascending=False).head()"
   ]
  },
  {
   "cell_type": "code",
   "execution_count": 162,
   "metadata": {},
   "outputs": [
    {
     "data": {
      "text/html": [
       "<div>\n",
       "<style>\n",
       "    .dataframe thead tr:only-child th {\n",
       "        text-align: right;\n",
       "    }\n",
       "\n",
       "    .dataframe thead th {\n",
       "        text-align: left;\n",
       "    }\n",
       "\n",
       "    .dataframe tbody tr th {\n",
       "        vertical-align: top;\n",
       "    }\n",
       "</style>\n",
       "<table border=\"1\" class=\"dataframe\">\n",
       "  <thead>\n",
       "    <tr style=\"text-align: right;\">\n",
       "      <th></th>\n",
       "      <th>Score</th>\n",
       "    </tr>\n",
       "  </thead>\n",
       "  <tbody>\n",
       "    <tr>\n",
       "      <th>count</th>\n",
       "      <td>1.008100e+04</td>\n",
       "    </tr>\n",
       "    <tr>\n",
       "      <th>mean</th>\n",
       "      <td>2.109996e+00</td>\n",
       "    </tr>\n",
       "    <tr>\n",
       "      <th>std</th>\n",
       "      <td>1.830158e+00</td>\n",
       "    </tr>\n",
       "    <tr>\n",
       "      <th>min</th>\n",
       "      <td>7.009055e-30</td>\n",
       "    </tr>\n",
       "    <tr>\n",
       "      <th>25%</th>\n",
       "      <td>1.125874e+00</td>\n",
       "    </tr>\n",
       "    <tr>\n",
       "      <th>50%</th>\n",
       "      <td>1.857892e+00</td>\n",
       "    </tr>\n",
       "    <tr>\n",
       "      <th>75%</th>\n",
       "      <td>2.297180e+00</td>\n",
       "    </tr>\n",
       "    <tr>\n",
       "      <th>max</th>\n",
       "      <td>4.327789e+01</td>\n",
       "    </tr>\n",
       "  </tbody>\n",
       "</table>\n",
       "</div>"
      ],
      "text/plain": [
       "              Score\n",
       "count  1.008100e+04\n",
       "mean   2.109996e+00\n",
       "std    1.830158e+00\n",
       "min    7.009055e-30\n",
       "25%    1.125874e+00\n",
       "50%    1.857892e+00\n",
       "75%    2.297180e+00\n",
       "max    4.327789e+01"
      ]
     },
     "execution_count": 162,
     "metadata": {},
     "output_type": "execute_result"
    }
   ],
   "source": [
    "feature_scores.describe()"
   ]
  },
  {
   "cell_type": "markdown",
   "metadata": {},
   "source": [
    "Let's select only those features where the chi2 score is above 20"
   ]
  },
  {
   "cell_type": "code",
   "execution_count": 163,
   "metadata": {},
   "outputs": [],
   "source": [
    "feature_scores = feature_scores[feature_scores['Score']>20]"
   ]
  },
  {
   "cell_type": "code",
   "execution_count": 164,
   "metadata": {},
   "outputs": [
    {
     "data": {
      "text/plain": [
       "<matplotlib.axes._subplots.AxesSubplot at 0x1e789b1c8d0>"
      ]
     },
     "execution_count": 164,
     "metadata": {},
     "output_type": "execute_result"
    },
    {
     "data": {
      "image/png": "[encoded data removed]",
      "text/plain": [
       "<matplotlib.figure.Figure at 0x1e789857a20>"
      ]
     },
     "metadata": {},
     "output_type": "display_data"
    }
   ],
   "source": [
    "# ADd y-label and a title\n",
    "\n",
    "feature_scores.set_index([\"feature\"]).sort_values(by=\"Score\", ascending=False).plot(figsize=(14,6), kind='bar')"
   ]
  },
  {
   "cell_type": "code",
   "execution_count": 165,
   "metadata": {},
   "outputs": [],
   "source": [
    "feature_list = feature_scores.feature.tolist()\n",
    "final_features = features[feature_list]"
   ]
  },
  {
   "cell_type": "code",
   "execution_count": 166,
   "metadata": {},
   "outputs": [],
   "source": [
    "X_train, X_test, y_train, y_test = train_test_split(final_features.as_matrix(), df[label], test_size=0.2, random_state=0)"
   ]
  },
  {
   "cell_type": "code",
   "execution_count": 167,
   "metadata": {},
   "outputs": [
    {
     "data": {
      "text/plain": [
       "0.54440789473684215"
      ]
     },
     "execution_count": 167,
     "metadata": {},
     "output_type": "execute_result"
    }
   ],
   "source": [
    "model = LogisticRegression(multi_class='ovr')\n",
    "model.fit(X_train, y_train)\n",
    "model.score(X_train, y_train)"
   ]
  },
  {
   "cell_type": "code",
   "execution_count": 168,
   "metadata": {},
   "outputs": [
    {
     "data": {
      "text/plain": [
       "0.54276315789473684"
      ]
     },
     "execution_count": 168,
     "metadata": {},
     "output_type": "execute_result"
    }
   ],
   "source": [
    "model.score(X_test, y_test)"
   ]
  },
  {
   "cell_type": "code",
   "execution_count": 169,
   "metadata": {},
   "outputs": [
    {
     "data": {
      "text/plain": [
       "0.54407894736842111"
      ]
     },
     "execution_count": 169,
     "metadata": {},
     "output_type": "execute_result"
    }
   ],
   "source": [
    "model.score(final_features, df[label])"
   ]
  },
  {
   "cell_type": "code",
   "execution_count": 171,
   "metadata": {
    "collapsed": true
   },
   "outputs": [],
   "source": [
    "top_k = feature_scores.set_index([\"feature\"]).sort_values(by=\"Score\", ascending=False).head(15)"
   ]
  },
  {
   "cell_type": "code",
   "execution_count": 172,
   "metadata": {},
   "outputs": [
    {
     "data": {
      "text/html": [
       "<div>\n",
       "<style>\n",
       "    .dataframe thead tr:only-child th {\n",
       "        text-align: right;\n",
       "    }\n",
       "\n",
       "    .dataframe thead th {\n",
       "        text-align: left;\n",
       "    }\n",
       "\n",
       "    .dataframe tbody tr th {\n",
       "        vertical-align: top;\n",
       "    }\n",
       "</style>\n",
       "<table border=\"1\" class=\"dataframe\">\n",
       "  <thead>\n",
       "    <tr style=\"text-align: right;\">\n",
       "      <th></th>\n",
       "      <th>Score</th>\n",
       "    </tr>\n",
       "    <tr>\n",
       "      <th>feature</th>\n",
       "      <th></th>\n",
       "    </tr>\n",
       "  </thead>\n",
       "  <tbody>\n",
       "    <tr>\n",
       "      <th>CurrentJobTitleSelect-Software Developer/Software Engineer</th>\n",
       "      <td>43.277890</td>\n",
       "    </tr>\n",
       "    <tr>\n",
       "      <th>FormalEducation-Doctoral degree</th>\n",
       "      <td>37.922086</td>\n",
       "    </tr>\n",
       "    <tr>\n",
       "      <th>AlgorithmUnderstandingLevel-Enough to run the code / standard library</th>\n",
       "      <td>37.719333</td>\n",
       "    </tr>\n",
       "    <tr>\n",
       "      <th>FormalEducation-Bachelor's degree</th>\n",
       "      <td>33.694344</td>\n",
       "    </tr>\n",
       "    <tr>\n",
       "      <th>Tenure-1 to 2 years</th>\n",
       "      <td>33.046463</td>\n",
       "    </tr>\n",
       "    <tr>\n",
       "      <th>TimeModelBuilding-0.0</th>\n",
       "      <td>32.437641</td>\n",
       "    </tr>\n",
       "    <tr>\n",
       "      <th>CurrentJobTitleSelect-Machine Learning Engineer</th>\n",
       "      <td>28.976714</td>\n",
       "    </tr>\n",
       "    <tr>\n",
       "      <th>CurrentEmployerType-Employed by a company that doesn't perform advanced analytics</th>\n",
       "      <td>27.101982</td>\n",
       "    </tr>\n",
       "    <tr>\n",
       "      <th>Tenure-Less than a year</th>\n",
       "      <td>26.381748</td>\n",
       "    </tr>\n",
       "    <tr>\n",
       "      <th>MLTechniquesSelect-Logistic Regression</th>\n",
       "      <td>25.689869</td>\n",
       "    </tr>\n",
       "    <tr>\n",
       "      <th>PastJobTitlesSelect-Programmer,Software Developer/Software Engineer</th>\n",
       "      <td>25.069037</td>\n",
       "    </tr>\n",
       "    <tr>\n",
       "      <th>WorkProductionFrequency-Never</th>\n",
       "      <td>22.470201</td>\n",
       "    </tr>\n",
       "    <tr>\n",
       "      <th>WorkMethodsFrequencyCross-Validation-Most of the time</th>\n",
       "      <td>22.118150</td>\n",
       "    </tr>\n",
       "    <tr>\n",
       "      <th>Tenure-More than 10 years</th>\n",
       "      <td>21.344199</td>\n",
       "    </tr>\n",
       "    <tr>\n",
       "      <th>JobFunctionSelect-Research that advances the state of the art of machine learning</th>\n",
       "      <td>20.547407</td>\n",
       "    </tr>\n",
       "  </tbody>\n",
       "</table>\n",
       "</div>"
      ],
      "text/plain": [
       "                                                        Score\n",
       "feature                                                      \n",
       "CurrentJobTitleSelect-Software Developer/Softwa...  43.277890\n",
       "FormalEducation-Doctoral degree                     37.922086\n",
       "AlgorithmUnderstandingLevel-Enough to run the c...  37.719333\n",
       "FormalEducation-Bachelor's degree                   33.694344\n",
       "Tenure-1 to 2 years                                 33.046463\n",
       "TimeModelBuilding-0.0                               32.437641\n",
       "CurrentJobTitleSelect-Machine Learning Engineer     28.976714\n",
       "CurrentEmployerType-Employed by a company that ...  27.101982\n",
       "Tenure-Less than a year                             26.381748\n",
       "MLTechniquesSelect-Logistic Regression              25.689869\n",
       "PastJobTitlesSelect-Programmer,Software Develop...  25.069037\n",
       "WorkProductionFrequency-Never                       22.470201\n",
       "WorkMethodsFrequencyCross-Validation-Most of th...  22.118150\n",
       "Tenure-More than 10 years                           21.344199\n",
       "JobFunctionSelect-Research that advances the st...  20.547407"
      ]
     },
     "execution_count": 172,
     "metadata": {},
     "output_type": "execute_result"
    }
   ],
   "source": [
    "top_k"
   ]
  },
  {
   "cell_type": "markdown",
   "metadata": {},
   "source": [
    "So, we have the top k features that dictate whether or not someone would call themselves a \"Data Scientist\" or not.  Let's look into the details of some of these cohort groups."
   ]
  },
  {
   "cell_type": "code",
   "execution_count": 173,
   "metadata": {
    "scrolled": true
   },
   "outputs": [],
   "source": [
    "cohort_df = features[top_k.index]"
   ]
  },
  {
   "cell_type": "code",
   "execution_count": 174,
   "metadata": {
    "collapsed": true
   },
   "outputs": [],
   "source": [
    "cohort_df = pd.concat([cohort_df, df[label]], axis=1)"
   ]
  },
  {
   "cell_type": "code",
   "execution_count": 175,
   "metadata": {},
   "outputs": [
    {
     "data": {
      "text/html": [
       "<div>\n",
       "<style>\n",
       "    .dataframe thead tr:only-child th {\n",
       "        text-align: right;\n",
       "    }\n",
       "\n",
       "    .dataframe thead th {\n",
       "        text-align: left;\n",
       "    }\n",
       "\n",
       "    .dataframe tbody tr th {\n",
       "        vertical-align: top;\n",
       "    }\n",
       "</style>\n",
       "<table border=\"1\" class=\"dataframe\">\n",
       "  <thead>\n",
       "    <tr style=\"text-align: right;\">\n",
       "      <th>DataScienceIdentitySelect</th>\n",
       "      <th>No</th>\n",
       "      <th>Sort of (Explain more)</th>\n",
       "      <th>Yes</th>\n",
       "      <th>Gap</th>\n",
       "    </tr>\n",
       "  </thead>\n",
       "  <tbody>\n",
       "    <tr>\n",
       "      <th>CurrentJobTitleSelect-Software Developer/Software Engineer</th>\n",
       "      <td>105</td>\n",
       "      <td>79</td>\n",
       "      <td>88</td>\n",
       "      <td>8.808290</td>\n",
       "    </tr>\n",
       "    <tr>\n",
       "      <th>FormalEducation-Doctoral degree</th>\n",
       "      <td>38</td>\n",
       "      <td>96</td>\n",
       "      <td>215</td>\n",
       "      <td>69.960474</td>\n",
       "    </tr>\n",
       "    <tr>\n",
       "      <th>AlgorithmUnderstandingLevel-Enough to run the code / standard library</th>\n",
       "      <td>56</td>\n",
       "      <td>47</td>\n",
       "      <td>32</td>\n",
       "      <td>27.272727</td>\n",
       "    </tr>\n",
       "    <tr>\n",
       "      <th>FormalEducation-Bachelor's degree</th>\n",
       "      <td>136</td>\n",
       "      <td>162</td>\n",
       "      <td>151</td>\n",
       "      <td>5.226481</td>\n",
       "    </tr>\n",
       "    <tr>\n",
       "      <th>Tenure-1 to 2 years</th>\n",
       "      <td>122</td>\n",
       "      <td>135</td>\n",
       "      <td>127</td>\n",
       "      <td>2.008032</td>\n",
       "    </tr>\n",
       "  </tbody>\n",
       "</table>\n",
       "</div>"
      ],
      "text/plain": [
       "DataScienceIdentitySelect                            No  \\\n",
       "CurrentJobTitleSelect-Software Developer/Softwa...  105   \n",
       "FormalEducation-Doctoral degree                      38   \n",
       "AlgorithmUnderstandingLevel-Enough to run the c...   56   \n",
       "FormalEducation-Bachelor's degree                   136   \n",
       "Tenure-1 to 2 years                                 122   \n",
       "\n",
       "DataScienceIdentitySelect                           Sort of (Explain more)  \\\n",
       "CurrentJobTitleSelect-Software Developer/Softwa...                      79   \n",
       "FormalEducation-Doctoral degree                                         96   \n",
       "AlgorithmUnderstandingLevel-Enough to run the c...                      47   \n",
       "FormalEducation-Bachelor's degree                                      162   \n",
       "Tenure-1 to 2 years                                                    135   \n",
       "\n",
       "DataScienceIdentitySelect                           Yes        Gap  \n",
       "CurrentJobTitleSelect-Software Developer/Softwa...   88   8.808290  \n",
       "FormalEducation-Doctoral degree                     215  69.960474  \n",
       "AlgorithmUnderstandingLevel-Enough to run the c...   32  27.272727  \n",
       "FormalEducation-Bachelor's degree                   151   5.226481  \n",
       "Tenure-1 to 2 years                                 127   2.008032  "
      ]
     },
     "execution_count": 175,
     "metadata": {},
     "output_type": "execute_result"
    }
   ],
   "source": [
    "top_k_cohort = cohort_df.groupby(['DataScienceIdentitySelect']).sum().T.astype(int)\n",
    "top_k_cohort['Gap'] = top_k_cohort.apply(lambda row: (abs(row[\"Yes\"] - row[\"No\"])/(row[\"Yes\"] + row[\"No\"]))*100, axis=1)\n",
    "top_k_cohort.head()"
   ]
  },
  {
   "cell_type": "code",
   "execution_count": 176,
   "metadata": {},
   "outputs": [
    {
     "data": {
      "text/plain": [
       "[<matplotlib.text.Text at 0x1e782f3d940>,\n",
       " <matplotlib.text.Text at 0x1e782f23d68>,\n",
       " <matplotlib.text.Text at 0x1e782f666a0>]"
      ]
     },
     "execution_count": 176,
     "metadata": {},
     "output_type": "execute_result"
    },
    {
     "data": {
      "image/png": "[encoded data removed]",
      "text/plain": [
       "<matplotlib.figure.Figure at 0x1e782fdadd8>"
      ]
     },
     "metadata": {},
     "output_type": "display_data"
    }
   ],
   "source": [
    "plt.figure(figsize=(8, 10))\n",
    "ax = sns.heatmap(top_k_cohort, cmap='YlGnBu')\n",
    "ax.set(xlabel='Do I call myself a \\'Data Scientist\\'?', ylabel='Feature', title='Feature Concentration by Answer')"
   ]
  },
  {
   "cell_type": "markdown",
   "metadata": {},
   "source": [
    "The heatmap shows some interesting results.  People that identified as a Data Scientist clearly have a higher concentration in both Formal Education, having more Doctoral Degrees as well as using Cross Validation as a method frequently."
   ]
  },
  {
   "cell_type": "code",
   "execution_count": 177,
   "metadata": {
    "collapsed": true
   },
   "outputs": [],
   "source": [
    "cohort_df = pd.concat([cohort_df, df[label]], axis=1)"
   ]
  },
  {
   "cell_type": "code",
   "execution_count": 178,
   "metadata": {},
   "outputs": [],
   "source": [
    "correct = pd.DataFrame({'count' : df.groupby( [ \"FormalEducation\", label] ).size()}).reset_index()"
   ]
  },
  {
   "cell_type": "code",
   "execution_count": 180,
   "metadata": {},
   "outputs": [
    {
     "data": {
      "image/png": "[encoded data removed]",
      "text/plain": [
       "<matplotlib.figure.Figure at 0x1e78387e0f0>"
      ]
     },
     "metadata": {},
     "output_type": "display_data"
    }
   ],
   "source": [
    "plt.figure(figsize=(10, 6))\n",
    "sns.set_style(\"white\")\n",
    "plot_df = correct[correct['FormalEducation'] != 'I prefer not to answer']\n",
    "ax = sns.pointplot(x=\"DataScienceIdentitySelect\", hue='FormalEducation', y=\"count\", hue_order=['Some college/university study without earning a bachelor\\'s degree', 'Bachelor\\'s degree','Master\\'s degree','Doctoral degree'], data=plot_df, palette=\"bright\")\n",
    "ax.set(xlabel='Do I call myself a \\'Data Scientist\\'?', ylabel='Count', title='Count of Formal Education');"
   ]
  },
  {
   "cell_type": "markdown",
   "metadata": {},
   "source": [
    "The graph above shows clearly that people who identify themselves as \"Data Scientists\" have higher rates of Master's and Doctoral Degrees. "
   ]
  },
  {
   "cell_type": "code",
   "execution_count": 181,
   "metadata": {
    "collapsed": true
   },
   "outputs": [],
   "source": [
    "correct = pd.DataFrame({'count' : df.groupby( [ \"AlgorithmUnderstandingLevel\", label] ).size()}).reset_index()"
   ]
  },
  {
   "cell_type": "code",
   "execution_count": 186,
   "metadata": {},
   "outputs": [
    {
     "data": {
      "text/plain": [
       "<matplotlib.figure.Figure at 0x1e78554dcf8>"
      ]
     },
     "metadata": {},
     "output_type": "display_data"
    },
    {
     "data": {
      "image/png": "[encoded data removed]",
      "text/plain": [
       "<matplotlib.figure.Figure at 0x1e78553fc88>"
      ]
     },
     "metadata": {},
     "output_type": "display_data"
    }
   ],
   "source": [
    "plt.figure(figsize=(8, 10));\n",
    "correct_wide = correct.set_index(['AlgorithmUnderstandingLevel','DataScienceIdentitySelect']).unstack('DataScienceIdentitySelect');\n",
    "correct_wide.columns=['No','Sort Of','Yes'];\n",
    "ax = correct_wide.plot(kind='bar',stacked=True, title='Algorithm Understanding Level');\n",
    "ax.set(xlabel='Do I call myself a \\'Data Scientist\\'?', ylabel='Count');"
   ]
  },
  {
   "cell_type": "code",
   "execution_count": 103,
   "metadata": {
    "collapsed": true
   },
   "outputs": [],
   "source": [
    "correct = pd.DataFrame({'count' : df.groupby( [ \"CurrentJobTitleSelect\", label] ).size()}).reset_index()"
   ]
  },
  {
   "cell_type": "code",
   "execution_count": 104,
   "metadata": {},
   "outputs": [
    {
     "data": {
      "text/plain": [
       "<matplotlib.axes._subplots.AxesSubplot at 0x1e780c70a90>"
      ]
     },
     "execution_count": 104,
     "metadata": {},
     "output_type": "execute_result"
    },
    {
     "data": {
      "image/png": "[encoded data removed]",
      "text/plain": [
       "<matplotlib.figure.Figure at 0x1e782547550>"
      ]
     },
     "metadata": {},
     "output_type": "display_data"
    }
   ],
   "source": [
    "df.groupby([\"CurrentJobTitleSelect\", label])[label].count().unstack().plot(kind='bar',figsize=(14,6))"
   ]
  },
  {
   "attachments": {},
   "cell_type": "markdown",
   "metadata": {},
   "source": [
    "The results of this analysis were interesting.  A few features stood out that would help to identify people who consider themselves \"Data Scientists\".  First, this cohort has a strong representative population that has Doctoral Degrees.  While certainly not necessary for job functionality, it is a defining characteristic of this population.  Additionally, having the job title of \"Software Developer\" or \"Software Engineer\" is also a shown to identiy people that call themselves Data Scientists.  One of the interesting questions on the survey was:\n",
    "\n",
    "At which level do you understand the mathematics behind the algorithms you use at work?\n",
    "\n",
    "The answers available for selection were:"
   ]
  },
  {
   "cell_type": "code",
   "execution_count": 105,
   "metadata": {},
   "outputs": [
    {
     "data": {
      "text/plain": [
       "Enough to explain the algorithm to someone non-technical                                1972\n",
       "Enough to code it again from scratch, albeit it may run slowly                          1178\n",
       "Enough to run the code / standard library                                                819\n",
       "Enough to refine and innovate on the algorithm                                           626\n",
       "Enough to tune the parameters properly                                                   587\n",
       "Enough to code it from scratch and it will run blazingly fast and be super efficient     234\n",
       "Name: AlgorithmUnderstandingLevel, dtype: int64"
      ]
     },
     "execution_count": 105,
     "metadata": {},
     "output_type": "execute_result"
    }
   ],
   "source": [
    "df['AlgorithmUnderstandingLevel'].value_counts()"
   ]
  },
  {
   "cell_type": "markdown",
   "metadata": {},
   "source": [
    "The cohort identified their understanding mostly as:\n",
    "\n",
    "Enough to explain the algorithm to someone non-technical  \n",
    "Enough to code it again from scratch, albeit it may run slowly\n",
    "\n",
    "That seems technical enough, but the results of the feature selection indicated that the feature, Enough to run the code/standard library was a better feature to identify a member of the cohort.  This would indicate that people who only understand the algorithms enough to run the code/standard library would not have a high-enough understanding to call themselves \"Data Scientists\"."
   ]
  },
  {
   "cell_type": "code",
   "execution_count": 106,
   "metadata": {},
   "outputs": [],
   "source": [
    "correct = pd.DataFrame({'count' : df.groupby( [ \"Tenure\", label] ).size()}).reset_index()"
   ]
  },
  {
   "cell_type": "code",
   "execution_count": 111,
   "metadata": {},
   "outputs": [
    {
     "data": {
      "text/plain": [
       "[<matplotlib.text.Text at 0x1e786d5f278>,\n",
       " <matplotlib.text.Text at 0x1e78699be10>,\n",
       " <matplotlib.text.Text at 0x1e786d89be0>]"
      ]
     },
     "execution_count": 111,
     "metadata": {},
     "output_type": "execute_result"
    },
    {
     "data": {
      "image/png": "[encoded data removed]",
      "text/plain": [
       "<matplotlib.figure.Figure at 0x1e78374c898>"
      ]
     },
     "metadata": {},
     "output_type": "display_data"
    }
   ],
   "source": [
    "plt.figure(figsize=(10, 6))\n",
    "sns.set_style(\"darkgrid\")\n",
    "ax = sns.barplot(y=\"count\", hue='Tenure', x=\"DataScienceIdentitySelect\",  data=correct)\n",
    "ax.set(xlabel='Tenure', ylabel='Count', title='Tenure Count')"
   ]
  },
  {
   "cell_type": "markdown",
   "metadata": {},
   "source": [
    "Additionally, while the feature of Tenure '1 to 2 years' was critical in identifying the cohort, it is clear that people that refer to themselves as \"Data Scientists\" have longer Tenure, three years and greater."
   ]
  },
  {
   "cell_type": "code",
   "execution_count": 187,
   "metadata": {},
   "outputs": [
    {
     "data": {
      "text/plain": [
       "Index(['CurrentJobTitleSelect-Machine Learning Engineer',\n",
       "       'CurrentJobTitleSelect-Software Developer/Software Engineer',\n",
       "       'CurrentEmployerType-Employed by a company that doesn't perform advanced analytics',\n",
       "       'FormalEducation-Bachelor's degree', 'FormalEducation-Doctoral degree',\n",
       "       'Tenure-1 to 2 years', 'Tenure-Less than a year',\n",
       "       'Tenure-More than 10 years',\n",
       "       'PastJobTitlesSelect-Programmer,Software Developer/Software Engineer',\n",
       "       'MLTechniquesSelect-Logistic Regression',\n",
       "       'JobFunctionSelect-Build and/or run the data infrastructure that your business uses for storing, analyzing, and operationalizing data',\n",
       "       'JobFunctionSelect-Research that advances the state of the art of machine learning',\n",
       "       'WorkProductionFrequency-Never',\n",
       "       'WorkMethodsFrequencyCross-Validation-Most of the time',\n",
       "       'TimeModelBuilding-0.0',\n",
       "       'AlgorithmUnderstandingLevel-Enough to run the code / standard library'],\n",
       "      dtype='object')"
      ]
     },
     "execution_count": 187,
     "metadata": {},
     "output_type": "execute_result"
    }
   ],
   "source": [
    "final_features.columns"
   ]
  },
  {
   "cell_type": "code",
   "execution_count": 192,
   "metadata": {},
   "outputs": [],
   "source": [
    "me = [0,1,0,0,0,0,0,1,1,0,1,0,0,0,0,1]"
   ]
  },
  {
   "cell_type": "code",
   "execution_count": 193,
   "metadata": {},
   "outputs": [
    {
     "name": "stderr",
     "output_type": "stream",
     "text": [
      "C:\\Users\\kim\\Anaconda3\\lib\\site-packages\\sklearn\\utils\\validation.py:395: DeprecationWarning: Passing 1d arrays as data is deprecated in 0.17 and will raise ValueError in 0.19. Reshape your data either using X.reshape(-1, 1) if your data has a single feature or X.reshape(1, -1) if it contains a single sample.\n",
      "  DeprecationWarning)\n"
     ]
    },
    {
     "data": {
      "text/plain": [
       "array([[ 0.59576784,  0.18877201,  0.21546014]])"
      ]
     },
     "execution_count": 193,
     "metadata": {},
     "output_type": "execute_result"
    }
   ],
   "source": [
    "model.predict_proba(me)"
   ]
  },
  {
   "cell_type": "markdown",
   "metadata": {},
   "source": [
    "Using myself as an example, I predict the probability that I would call myself a Data Scientist.  In this case, the model accurately predicts that I would not call myself a Data Scientist."
   ]
  },
  {
   "cell_type": "code",
   "execution_count": 190,
   "metadata": {},
   "outputs": [
    {
     "data": {
      "text/plain": [
       "array(['No', 'Sort of (Explain more)', 'Yes'], dtype=object)"
      ]
     },
     "execution_count": 190,
     "metadata": {},
     "output_type": "execute_result"
    }
   ],
   "source": [
    "model.classes_"
   ]
  },
  {
   "cell_type": "code",
   "execution_count": 196,
   "metadata": {},
   "outputs": [
    {
     "name": "stderr",
     "output_type": "stream",
     "text": [
      "C:\\Users\\kim\\Anaconda3\\lib\\site-packages\\sklearn\\utils\\validation.py:395: DeprecationWarning: Passing 1d arrays as data is deprecated in 0.17 and will raise ValueError in 0.19. Reshape your data either using X.reshape(-1, 1) if your data has a single feature or X.reshape(1, -1) if it contains a single sample.\n",
      "  DeprecationWarning)\n"
     ]
    },
    {
     "data": {
      "text/plain": [
       "array([[ 0.3318257 ,  0.16581026,  0.50236404]])"
      ]
     },
     "execution_count": 196,
     "metadata": {},
     "output_type": "execute_result"
    }
   ],
   "source": [
    "me = [1,0,1,1,1,0,0,1,1,0,1,0,0,1,0,1]\n",
    "model.predict_proba(me)"
   ]
  },
  {
   "cell_type": "markdown",
   "metadata": {},
   "source": [
    "Changing a few features to alter the outcome to sway the prediction to Yes includes getting a Doctoral Degree, having a job title of ML Engineer, and working more with Cross Validation. \n",
    "\n",
    "People can use this model to identify what skills or features need to be enhanced to ultimately achieve their goal of becoming a Data Scientist."
   ]
  },
  {
   "cell_type": "code",
   "execution_count": 132,
   "metadata": {},
   "outputs": [
    {
     "data": {
      "text/html": [
       "<style>\n",
       "    @font-face {\n",
       "        font-family: \"Computer Modern\";\n",
       "        src: url('http://9dbb143991406a7c655e-aa5fcb0a5a4ec34cff238a2d56ca4144.r56.cf5.rackcdn.com/cmunss.otf');\n",
       "    }\n",
       "    @font-face {\n",
       "        font-family: \"Computer Modern\";\n",
       "        font-weight: bold;\n",
       "        src: url('http://9dbb143991406a7c655e-aa5fcb0a5a4ec34cff238a2d56ca4144.r56.cf5.rackcdn.com/cmunsx.otf');\n",
       "    }\n",
       "    @font-face {\n",
       "        font-family: \"Computer Modern\";\n",
       "        font-style: oblique;\n",
       "        src: url('http://9dbb143991406a7c655e-aa5fcb0a5a4ec34cff238a2d56ca4144.r56.cf5.rackcdn.com/cmunsi.otf');\n",
       "    }\n",
       "    @font-face {\n",
       "        font-family: \"Computer Modern\";\n",
       "        font-weight: bold;\n",
       "        font-style: oblique;\n",
       "        src: url('http://9dbb143991406a7c655e-aa5fcb0a5a4ec34cff238a2d56ca4144.r56.cf5.rackcdn.com/cmunso.otf');\n",
       "    }\n",
       "    div.cell{\n",
       "        width:800px;\n",
       "        margin-left:16% !important;\n",
       "        margin-right:auto;\n",
       "    }\n",
       "    h1 {\n",
       "        font-family: Helvetica, serif;\n",
       "    }\n",
       "    h4{\n",
       "        margin-top:12px;\n",
       "        margin-bottom: 3px;\n",
       "       }\n",
       "    div.text_cell_render{\n",
       "        font-family: Computer Modern, \"Helvetica Neue\", Arial, Helvetica, Geneva, sans-serif;\n",
       "        line-height: 145%;\n",
       "        font-size: 130%;\n",
       "        width:800px;\n",
       "        margin-left:auto;\n",
       "        margin-right:auto;\n",
       "    }\n",
       "    .CodeMirror{\n",
       "            font-family: \"Source Code Pro\", source-code-pro,Consolas, monospace;\n",
       "    }\n",
       "    .prompt{\n",
       "        display: None;\n",
       "    }\n",
       "    .text_cell_render h5 {\n",
       "        font-weight: 300;\n",
       "        font-size: 22pt;\n",
       "        color: #4057A1;\n",
       "        font-style: italic;\n",
       "        margin-bottom: .5em;\n",
       "        margin-top: 0.5em;\n",
       "        display: block;\n",
       "    }\n",
       "\n",
       "    .warning{\n",
       "        color: rgb( 240, 20, 20 )\n",
       "        }\n",
       "</style>\n",
       "<script>\n",
       "    MathJax.Hub.Config({\n",
       "                        TeX: {\n",
       "                           extensions: [\"AMSmath.js\"]\n",
       "                           },\n",
       "                tex2jax: {\n",
       "                    inlineMath: [ ['$','$'], [\"\\\\(\",\"\\\\)\"] ],\n",
       "                    displayMath: [ ['$$','$$'], [\"\\\\[\",\"\\\\]\"] ]\n",
       "                },\n",
       "                displayAlign: 'center', // Change this to 'center' to center equations.\n",
       "                \"HTML-CSS\": {\n",
       "                    styles: {'.MathJax_Display': {\"margin\": 4}}\n",
       "                }\n",
       "        });\n",
       "</script>"
      ],
      "text/plain": [
       "<IPython.core.display.HTML object>"
      ]
     },
     "execution_count": 132,
     "metadata": {},
     "output_type": "execute_result"
    }
   ],
   "source": [
    "from IPython.core.display import HTML \n",
    "\n",
    "def css_styling(): \n",
    "    styles = open(\"custom.css\", \"r\").read() \n",
    "    return HTML(styles) \n",
    "\n",
    "css_styling()"
   ]
  },
  {
   "cell_type": "code",
   "execution_count": null,
   "metadata": {
    "collapsed": true
   },
   "outputs": [],
   "source": []
  }
 ],
 "metadata": {
  "kernelspec": {
   "display_name": "Python 3",
   "language": "python",
   "name": "python3"
  },
  "language_info": {
   "codemirror_mode": {
    "name": "ipython",
    "version": 3
   },
   "file_extension": ".py",
   "mimetype": "text/x-python",
   "name": "python",
   "nbconvert_exporter": "python",
   "pygments_lexer": "ipython3",
   "version": "3.6.1"
  }
 },
 "nbformat": 4,
 "nbformat_minor": 2
}
